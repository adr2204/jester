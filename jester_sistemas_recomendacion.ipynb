{
 "cells": [
  {
   "cell_type": "markdown",
   "id": "ba90f1e5",
   "metadata": {},
   "source": [
    "# SISTEMAS DE RECOMENDACIÓN PARA EL DATASET JESTER.  \n",
    "### Contiene 25k usuarios que han valorado 100 chistes."
   ]
  },
  {
   "cell_type": "markdown",
   "id": "84e5c965",
   "metadata": {},
   "source": [
    "## Procesado del archivo\n",
    "\n",
    "1. **Separar los datos en columnas**  \n",
    "   El archivo original contiene todos los ratings de un usuario en una sola cadena separada por `;`. Se divide en 101 columnas (una para el número de ratings, y 100 para los chistes).\n",
    "\n",
    "2. **Convertir las comas decimales a puntos**  \n",
    "   Los ratings están en formato europeo (por ejemplo: `7,85`), por lo que es necesario convertir `,` a `.` para que Python los interprete como `float`.\n",
    "\n",
    "3. **Cambiar los valores `99` a `NaN`**  \n",
    "   El valor `99` indica que el usuario **no valoró** ese chiste, por lo tanto se reemplaza con `NaN`.\n",
    "\n",
    "4. **Obtener una matriz usuarios × chistes**  \n",
    "   Se obtiene una matriz final de `24,983 usuarios × 100 chistes`, con ratings reales (de -10 a +10) y `NaN` donde no hay valoración.\n",
    "\n"
   ]
  },
  {
   "cell_type": "code",
   "execution_count": 2,
   "id": "b61ee0ba",
   "metadata": {},
   "outputs": [
    {
     "name": "stdout",
     "output_type": "stream",
     "text": [
      "(24983, 1)\n",
      "                                                   0\n",
      "0  74;-7,82;8,79;-9,66;-8,16;-7,52;-8,5;-9,85;4,1...\n",
      "1  100;4,08;-0,29;6,36;4,37;-2,38;-9,66;-0,73;-5,...\n",
      "2  49;99;99;99;99;9,03;9,27;9,03;9,27;99;99;7,33;...\n",
      "3  48;99;8,35;99;99;1,8;8,16;-2,82;6,21;99;1,84;7...\n",
      "4  91;8,5;4,61;-4,17;-5,39;1,36;1,6;7,04;4,61;-0,...\n"
     ]
    }
   ],
   "source": [
    "import pandas as pd\n",
    "\n",
    "\n",
    "file_path = \"jester-data-1.csv\"\n",
    "\n",
    "df_tab = pd.read_csv(file_path, delimiter='\\t', header=None, on_bad_lines='skip')\n",
    "\n",
    "\n",
    "print(df_tab.shape)\n",
    "print(df_tab.head())"
   ]
  },
  {
   "cell_type": "code",
   "execution_count": 3,
   "id": "50b5ee9d",
   "metadata": {},
   "outputs": [
    {
     "name": "stderr",
     "output_type": "stream",
     "text": [
      "/var/folders/s8/mfl3ssh12jvfdt_brpcmp0fh0000gn/T/ipykernel_36154/541319789.py:7: FutureWarning: DataFrame.applymap has been deprecated. Use DataFrame.map instead.\n",
      "  df_split = df_split.applymap(lambda x: x.replace(',', '.') if isinstance(x, str) else x)\n"
     ]
    },
    {
     "data": {
      "text/plain": [
       "((24983, 100),\n",
       "     1     2     3     4     5     6     7     8     9     10   ...   91   \\\n",
       " 0 -7.82  8.79 -9.66 -8.16 -7.52 -8.50 -9.85  4.17 -8.98 -4.76  ...  2.82   \n",
       " 1  4.08 -0.29  6.36  4.37 -2.38 -9.66 -0.73 -5.34  8.88  9.22  ...  2.82   \n",
       " 2   NaN   NaN   NaN   NaN  9.03  9.27  9.03  9.27   NaN   NaN  ...   NaN   \n",
       " 3   NaN  8.35   NaN   NaN  1.80  8.16 -2.82  6.21   NaN  1.84  ...   NaN   \n",
       " 4  8.50  4.61 -4.17 -5.39  1.36  1.60  7.04  4.61 -0.44  5.73  ...  5.19   \n",
       " \n",
       "     92    93    94    95    96    97    98    99    100  \n",
       " 0   NaN   NaN   NaN   NaN   NaN -5.63   NaN   NaN   NaN  \n",
       " 1 -4.95 -0.29  7.86 -0.19 -2.14  3.06  0.34 -4.32  1.07  \n",
       " 2   NaN   NaN  9.08   NaN   NaN   NaN   NaN   NaN   NaN  \n",
       " 3   NaN   NaN  0.53   NaN   NaN   NaN   NaN   NaN   NaN  \n",
       " 4  5.58  4.27  5.19  5.73  1.55  3.11  6.55  1.80  1.60  \n",
       " \n",
       " [5 rows x 100 columns],\n",
       " 0     74.0\n",
       " 1    100.0\n",
       " 2     49.0\n",
       " 3     48.0\n",
       " 4     91.0\n",
       " Name: 0, dtype: float64)"
      ]
     },
     "execution_count": 3,
     "metadata": {},
     "output_type": "execute_result"
    }
   ],
   "source": [
    "import numpy as np\n",
    "\n",
    "# Dividimos los datos por \";\" y expandir a columnas\n",
    "df_split = df_tab[0].str.split(';', expand=True)\n",
    "\n",
    "# Puntos en vez de comas\n",
    "df_split = df_split.applymap(lambda x: x.replace(',', '.') if isinstance(x, str) else x)\n",
    "\n",
    "# Convertir a float\n",
    "df_split = df_split.astype(float)\n",
    "\n",
    "# Reemplazar los valores 99 por NaN (sin rating)\n",
    "df_split.replace(99.0, np.nan, inplace=True)\n",
    "\n",
    "# Separar la columna con el número de ratings (puede ser útil para filtrado)\n",
    "ratings_count = df_split.iloc[:, 0]\n",
    "ratings_data = df_split.iloc[:, 1:]  # Solo las columnas con ratings\n",
    "\n",
    "# Mostrar dimensiones y algunas filas limpias\n",
    "ratings_data.shape, ratings_data.head(), ratings_count.head()\n"
   ]
  },
  {
   "cell_type": "code",
   "execution_count": 4,
   "id": "80ef2ada",
   "metadata": {},
   "outputs": [
    {
     "data": {
      "text/plain": [
       "((1448364, 3),\n",
       " (362091, 3),\n",
       "          user_id  item_id  rating\n",
       " 1206583    16664       24   -4.85\n",
       " 804465     11153       90    8.98\n",
       " 718749      9941       97    7.82\n",
       " 1728002    23847       99   -6.17\n",
       " 1102038    15260       94   -5.83)"
      ]
     },
     "execution_count": 4,
     "metadata": {},
     "output_type": "execute_result"
    }
   ],
   "source": [
    "from sklearn.model_selection import train_test_split\n",
    "from sklearn.metrics import mean_absolute_error, mean_squared_error\n",
    "import matplotlib.pyplot as plt\n",
    "\n",
    "# Usar los datos limpios cargados previamente: ratings_data\n",
    "\n",
    "# Para simplificar y reducir tiempo de ejecución, podemos quedarnos con una muestra (opcional)\n",
    "# Aquí no se reduce, pero puedes activar esto si necesitas:\n",
    "# ratings_data = ratings_data.sample(n=5000, random_state=42)\n",
    "\n",
    "# Crear una lista de tripletas (usuario, item, rating)\n",
    "ratings_long = ratings_data.stack().reset_index()\n",
    "ratings_long.columns = ['user_id', 'item_id', 'rating']\n",
    "\n",
    "# Dividir en conjunto de entrenamiento y prueba\n",
    "train_data, test_data = train_test_split(ratings_long, test_size=0.2, random_state=42)\n",
    "\n",
    "# Mostrar tamaños de los conjuntos y una muestra\n",
    "train_data.shape, test_data.shape, train_data.head()\n"
   ]
  },
  {
   "cell_type": "markdown",
   "id": "75ac71f8",
   "metadata": {},
   "source": [
    "## ⚙️ Modelado y Comparación de Técnicas\n",
    "\n",
    "Se han comparado las siguientes técnicas de recomendación:\n",
    "\n",
    "### 🔸 1. Modelo Base (Media Global)\n",
    "- Predice siempre la media global de los ratings.\n",
    "- Sirve como punto de comparación mínimo.\n",
    "\n",
    "### 🔸 2. KNN (User-Based)\n",
    "\n",
    "### 🔸 3. Matrix Factorization (SVD)\n",
    "\n",
    "### 🔸 4. Bernoulli Matrix Factorization\n",
    "\n",
    "---\n",
    "\n",
    "## 📊 Métrica Utilizada\n",
    "\n",
    "- **MAE (Mean Absolute Error)**: error absoluto medio entre predicciones y valores reales.\n",
    "\n",
    "\n"
   ]
  },
  {
   "cell_type": "markdown",
   "id": "26524b35",
   "metadata": {},
   "source": [
    "## ----- MEDIA GLOBAL -----"
   ]
  },
  {
   "cell_type": "code",
   "execution_count": null,
   "id": "73fd3eeb",
   "metadata": {},
   "outputs": [
    {
     "name": "stdout",
     "output_type": "stream",
     "text": [
      "Media global de los ratings (baseline): 0.8786\n",
      "[Baseline] MAE: 4.3701\n",
      "[Baseline] RMSE: 5.2369\n"
     ]
    },
    {
     "name": "stderr",
     "output_type": "stream",
     "text": [
      "/Library/Frameworks/Python.framework/Versions/3.12/lib/python3.12/site-packages/sklearn/metrics/_regression.py:492: FutureWarning: 'squared' is deprecated in version 1.4 and will be removed in 1.6. To calculate the root mean squared error, use the function'root_mean_squared_error'.\n",
      "  warnings.warn(\n"
     ]
    }
   ],
   "source": [
    "import numpy as np\n",
    "from sklearn.metrics import mean_absolute_error, mean_squared_error\n",
    "\n",
    "# Calcular la media de ratings en el conjunto de entrenamiento\n",
    "global_mean = train_data['rating'].mean()\n",
    "print(f\"Media global de los ratings (baseline): {global_mean:.4f}\")\n",
    "\n",
    "# Predecir esa media para todos los casos del conjunto de test\n",
    "y_test = test_data['rating'].values\n",
    "y_pred_baseline = np.full_like(y_test, fill_value=global_mean, dtype=float)\n",
    "\n",
    "# Evaluar\n",
    "mae_baseline = mean_absolute_error(y_test, y_pred_baseline)\n",
    "\n",
    "print(f\"[Baseline] MAE: {mae_baseline:.4f}\")\n",
    "\n",
    "\n"
   ]
  },
  {
   "cell_type": "markdown",
   "id": "9611e246",
   "metadata": {},
   "source": [
    "## ----- KNN -----"
   ]
  },
  {
   "cell_type": "markdown",
   "id": "14028084",
   "metadata": {},
   "source": [
    "Definimos algunas constantes útiles"
   ]
  },
  {
   "cell_type": "code",
   "execution_count": null,
   "id": "0acb382f",
   "metadata": {},
   "outputs": [],
   "source": [
    "NUM_USERS = train_data['user_id'].nunique()\n",
    "NUM_ITEMS = train_data['item_id'].nunique()\n",
    "\n",
    "MIN_RATING = -10  # según me dijiste\n",
    "MAX_RATING = 10"
   ]
  },
  {
   "cell_type": "markdown",
   "id": "061a4200",
   "metadata": {},
   "source": [
    "Cargamos el dataset en la matriz de votaciones train y test."
   ]
  },
  {
   "cell_type": "code",
   "execution_count": null,
   "id": "a4fc1614",
   "metadata": {},
   "outputs": [],
   "source": [
    "import pandas as pd\n",
    "import numpy as np\n",
    "\n",
    "# Paso 1: Crear matriz usuario-ítem para train\n",
    "ratings_df = train_data.pivot(index='user_id', columns='item_id', values='rating')\n",
    "\n",
    "# Paso 2: Crear matriz usuario-ítem para test\n",
    "test_ratings_df = test_data.pivot(index='user_id', columns='item_id', values='rating')\n",
    "\n",
    "# Llenamos los NaNs con None si quieres mantener el mismo comportamiento que antes\n",
    "ratings = ratings_df.to_numpy()\n",
    "test_ratings = test_ratings_df.to_numpy()\n",
    "\n",
    "# Opcional: asegurar que las matrices sean del mismo tamaño\n",
    "ratings_df = ratings_df.reindex(index=sorted(train_data['user_id'].unique()),\n",
    "                                 columns=sorted(train_data['item_id'].unique()))\n",
    "test_ratings_df = test_ratings_df.reindex_like(ratings_df)\n"
   ]
  },
  {
   "cell_type": "markdown",
   "id": "06b7d60f",
   "metadata": {},
   "source": [
    "Definimos también algunas funciones auxiliares que nos serán útiles:"
   ]
  },
  {
   "cell_type": "code",
   "execution_count": null,
   "id": "40ccbcb6",
   "metadata": {},
   "outputs": [],
   "source": [
    "def rating_average(user_id):\n",
    "    if user_id not in ratings_df.index:\n",
    "        return 0\n",
    "    user_ratings = ratings_df.loc[user_id]\n",
    "    valid_ratings = user_ratings.dropna()\n",
    "    if valid_ratings.empty:\n",
    "        return 0\n",
    "    return valid_ratings.mean()\n"
   ]
  },
  {
   "cell_type": "markdown",
   "id": "079d6cef",
   "metadata": {},
   "source": [
    "Ahora definimos algunos métodos para calcular similaridad"
   ]
  },
  {
   "cell_type": "code",
   "execution_count": null,
   "id": "4a61d8ef",
   "metadata": {},
   "outputs": [],
   "source": [
    "import math\n",
    "\n",
    "def correlation_similarity(user_u, user_v):\n",
    "    # Asegurarse de que ambos usuarios existan\n",
    "    if user_u not in ratings_df.index or user_v not in ratings_df.index:\n",
    "        return None\n",
    "\n",
    "    ratings_u = ratings_df.loc[user_u]\n",
    "    ratings_v = ratings_df.loc[user_v]\n",
    "\n",
    "    # Seleccionar ítems que ambos hayan valorado\n",
    "    common_items = ratings_u.notna() & ratings_v.notna()\n",
    "\n",
    "    if not common_items.any():\n",
    "        return None\n",
    "\n",
    "    r_u = ratings_u[common_items]\n",
    "    r_v = ratings_v[common_items]\n",
    "\n",
    "    avg_u = r_u.mean()\n",
    "    avg_v = r_v.mean()\n",
    "\n",
    "    num = ((r_u - avg_u) * (r_v - avg_v)).sum()\n",
    "    den_u = ((r_u - avg_u) ** 2).sum()\n",
    "    den_v = ((r_v - avg_v) ** 2).sum()\n",
    "\n",
    "    if den_u != 0 and den_v != 0:\n",
    "        return num / math.sqrt(den_u * den_v)\n",
    "    else:\n",
    "        return None\n"
   ]
  },
  {
   "cell_type": "code",
   "execution_count": null,
   "id": "5541bbd7",
   "metadata": {},
   "outputs": [],
   "source": [
    "def jmsd_similarity(user_u, user_v):\n",
    "    # Verifica que los usuarios existan\n",
    "    if user_u not in ratings_df.index or user_v not in ratings_df.index:\n",
    "        return None\n",
    "\n",
    "    ratings_u = ratings_df.loc[user_u]\n",
    "    ratings_v = ratings_df.loc[user_v]\n",
    "\n",
    "    # Ítems valorados por al menos uno\n",
    "    mask_u = ratings_u.notna()\n",
    "    mask_v = ratings_v.notna()\n",
    "\n",
    "    union_mask = mask_u | mask_v\n",
    "    intersection_mask = mask_u & mask_v\n",
    "\n",
    "    union_count = union_mask.sum()\n",
    "    intersection_count = intersection_mask.sum()\n",
    "\n",
    "    if intersection_count == 0:\n",
    "        return None\n",
    "\n",
    "    # Normalizamos los ratings entre 0 y 1\n",
    "    r_u = (ratings_u[intersection_mask] - MIN_RATING) / (MAX_RATING - MIN_RATING)\n",
    "    r_v = (ratings_v[intersection_mask] - MIN_RATING) / (MAX_RATING - MIN_RATING)\n",
    "\n",
    "    # MSD: diferencia media al cuadrado\n",
    "    msd = ((r_u - r_v) ** 2).mean()\n",
    "\n",
    "    # Jaccard: proporción de coincidencia\n",
    "    jaccard = intersection_count / union_count\n",
    "\n",
    "    return jaccard * (1 - msd)\n"
   ]
  },
  {
   "cell_type": "markdown",
   "id": "64f5ca0d",
   "metadata": {},
   "source": [
    "Pasamos a la búsqueda de los `k` vecinos"
   ]
  },
  {
   "cell_type": "code",
   "execution_count": null,
   "id": "a7c6a0b8",
   "metadata": {},
   "outputs": [],
   "source": [
    "def get_neighbors(user_u, similarities, k=20):\n",
    "    # similarities es un diccionario o lista con índice = user_id y valor = similitud\n",
    "    # Excluimos al propio usuario y los None\n",
    "    filtered = {user_v: sim for user_v, sim in similarities.items()\n",
    "                if user_v != user_u and sim is not None}\n",
    "\n",
    "    # Ordenamos por similitud descendente y tomamos los k más altos\n",
    "    sorted_neighbors = sorted(filtered.items(), key=lambda x: x[1], reverse=True)\n",
    "\n",
    "    # Retornamos solo los IDs de los vecinos\n",
    "    neighbors = [user_id for user_id, _ in sorted_neighbors[:k]]\n",
    "\n",
    "    return neighbors\n"
   ]
  },
  {
   "cell_type": "code",
   "execution_count": null,
   "id": "398c4a87",
   "metadata": {},
   "outputs": [
    {
     "name": "stdout",
     "output_type": "stream",
     "text": [
      "Vecinos por correlación: [3968, 4727, 22998, 14837, 20564, 8611, 10292, 13071, 8540, 9906, 2288, 10472, 19220, 2122, 12411, 9386, 7896, 15189, 19695, 6942, 20242, 15193, 14022, 6453, 62]\n",
      "Vecinos por JMSD: [13788, 6234, 23844, 14209, 3319, 13084, 18568, 24507, 3850, 18463, 7679, 5330, 2722, 7622, 3591, 14318, 1373, 16664, 17648, 3628, 18046, 19915, 1073, 16911, 1511]\n"
     ]
    }
   ],
   "source": [
    "# Probamos con un usuario específico\n",
    "\n",
    "user_u = 112\n",
    "\n",
    "# Calculamos las similitudes con todos los demás usuarios\n",
    "similarities_corr = {\n",
    "    user_v: correlation_similarity(user_u, user_v)\n",
    "    for user_v in ratings_df.index if user_v != user_u\n",
    "}\n",
    "\n",
    "similarities_jmsd = {\n",
    "    user_v: jmsd_similarity(user_u, user_v)\n",
    "    for user_v in ratings_df.index if user_v != user_u\n",
    "}\n",
    "\n",
    "# Obtenemos los vecinos más similares (top-k)\n",
    "neighbors_corr = get_neighbors(user_u, similarities_corr, k=25)\n",
    "neighbors_jmsd = get_neighbors(user_u, similarities_jmsd, k=25)\n",
    "\n",
    "# Mostrar los IDs de los vecinos\n",
    "print(\"Vecinos por correlación:\", neighbors_corr)\n",
    "print(\"Vecinos por JMSD:\", neighbors_jmsd)\n"
   ]
  },
  {
   "cell_type": "markdown",
   "id": "7847d57b",
   "metadata": {},
   "source": [
    "Estimacíon de las predicciones"
   ]
  },
  {
   "cell_type": "code",
   "execution_count": null,
   "id": "3c45c1f3",
   "metadata": {},
   "outputs": [],
   "source": [
    "def average_prediction(user_u, item_i, neighbors):\n",
    "    acc = 0\n",
    "    count = 0\n",
    "\n",
    "    for neighbor in neighbors:\n",
    "        # Si el vecino ha valorado el ítem\n",
    "        if pd.notna(ratings_df.at[neighbor, item_i]):\n",
    "            acc += ratings_df.at[neighbor, item_i]\n",
    "            count += 1\n",
    "\n",
    "    if count > 0:\n",
    "        return acc / count\n",
    "    else:\n",
    "        return None"
   ]
  },
  {
   "cell_type": "code",
   "execution_count": null,
   "id": "a82db940",
   "metadata": {},
   "outputs": [
    {
     "name": "stdout",
     "output_type": "stream",
     "text": [
      "Predicción promedio (correlación): 3.6712500000000006\n",
      "Predicción promedio (JMSD): -1.773157894736842\n"
     ]
    }
   ],
   "source": [
    "# Testing\n",
    "user_u = 112\n",
    "item_i = 40\n",
    "\n",
    "avgpred_corr = average_prediction(user_u, item_i, neighbors_corr)\n",
    "avgpred_jmsd = average_prediction(user_u, item_i, neighbors_jmsd)\n",
    "\n",
    "print(\"Predicción promedio (correlación):\", avgpred_corr)\n",
    "print(\"Predicción promedio (JMSD):\", avgpred_jmsd)\n"
   ]
  },
  {
   "cell_type": "code",
   "execution_count": null,
   "id": "252ac41b",
   "metadata": {},
   "outputs": [],
   "source": [
    "def weighted_average_prediction(user_u, item_i, neighbors, similarities):\n",
    "    num = 0\n",
    "    den = 0\n",
    "\n",
    "    for neighbor in neighbors:\n",
    "        rating = ratings_df.at[neighbor, item_i] if item_i in ratings_df.columns else None\n",
    "\n",
    "        if pd.notna(rating):\n",
    "            sim = similarities.get(neighbor, None)\n",
    "            if sim is not None:\n",
    "                num += sim * rating\n",
    "                den += abs(sim)  # opcional: usar valor absoluto de la similitud\n",
    "\n",
    "    if den > 0:\n",
    "        return num / den\n",
    "    else:\n",
    "        return None\n"
   ]
  },
  {
   "cell_type": "code",
   "execution_count": null,
   "id": "f79557a6",
   "metadata": {},
   "outputs": [
    {
     "name": "stdout",
     "output_type": "stream",
     "text": [
      "Predicción ponderada (correlación): 3.668851431551454\n",
      "Predicción ponderada (JMSD): -1.7653280902903488\n"
     ]
    }
   ],
   "source": [
    "# testing\n",
    "\n",
    "user_u = 112\n",
    "item_i = 40\n",
    "\n",
    "wavgpred_corr = weighted_average_prediction(user_u, item_i, neighbors_corr, similarities_corr)\n",
    "wavgpred_jmsd = weighted_average_prediction(user_u, item_i, neighbors_jmsd, similarities_jmsd)\n",
    "\n",
    "print(\"Predicción ponderada (correlación):\", wavgpred_corr)\n",
    "print(\"Predicción ponderada (JMSD):\", wavgpred_jmsd)\n"
   ]
  },
  {
   "cell_type": "code",
   "execution_count": null,
   "id": "92e0758e",
   "metadata": {},
   "outputs": [],
   "source": [
    "def deviation_from_mean_prediction(user_u, item_i, neighbors):\n",
    "    acc = 0\n",
    "    count = 0\n",
    "\n",
    "    for neighbor in neighbors:\n",
    "        if item_i not in ratings_df.columns or neighbor not in ratings_df.index:\n",
    "            continue\n",
    "\n",
    "        rating = ratings_df.at[neighbor, item_i]\n",
    "        if pd.notna(rating):\n",
    "            avg_n = rating_average(neighbor)\n",
    "            acc += rating - avg_n\n",
    "            count += 1\n",
    "\n",
    "    if count > 0:\n",
    "        avg_u = rating_average(user_u)\n",
    "        return avg_u + (acc / count)\n",
    "    else:\n",
    "        return None\n"
   ]
  },
  {
   "cell_type": "code",
   "execution_count": null,
   "id": "3fe6f661",
   "metadata": {},
   "outputs": [
    {
     "name": "stdout",
     "output_type": "stream",
     "text": [
      "Predicción por desviación de la media (correlación): -0.06062209145021635\n",
      "Predicción por desviación de la media (JMSD): -2.435098644709883\n"
     ]
    }
   ],
   "source": [
    "# Testing\n",
    "\n",
    "user_u = 112\n",
    "item_i = 40\n",
    "\n",
    "dfmpred_corr = deviation_from_mean_prediction(user_u, item_i, neighbors_corr)\n",
    "dfmpred_jmsd = deviation_from_mean_prediction(user_u, item_i, neighbors_jmsd)\n",
    "\n",
    "print(\"Predicción por desviación de la media (correlación):\", dfmpred_corr)\n",
    "print(\"Predicción por desviación de la media (JMSD):\", dfmpred_jmsd)\n"
   ]
  },
  {
   "cell_type": "markdown",
   "id": "ac0d1d87",
   "metadata": {},
   "source": [
    "Ahora calculamos recomendaciones"
   ]
  },
  {
   "cell_type": "code",
   "execution_count": null,
   "id": "f8e8a1e5",
   "metadata": {},
   "outputs": [],
   "source": [
    "def get_recommendations(predictions, N=5):\n",
    "    # Filtrar predicciones válidas (no None)\n",
    "    valid_predictions = {item: rating for item, rating in predictions.items() if rating is not None}\n",
    "\n",
    "    # Ordenar por rating descendente\n",
    "    sorted_predictions = sorted(valid_predictions.items(), key=lambda x: x[1], reverse=True)\n",
    "\n",
    "    # Tomar los N ítems con mayor predicción\n",
    "    top_items = [item for item, _ in sorted_predictions[:N]]\n",
    "\n",
    "    return top_items\n"
   ]
  },
  {
   "cell_type": "code",
   "execution_count": null,
   "id": "0a4e841b",
   "metadata": {},
   "outputs": [
    {
     "name": "stdout",
     "output_type": "stream",
     "text": [
      "Recomendaciones (Average + Correlation): [85, 95, 91, 97, 61]\n",
      "Recomendaciones (Average + JMSD): [86, 81, 73, 72, 92]\n",
      "Recomendaciones (Weighted Average + Correlation): [85, 95, 91, 97, 21]\n",
      "Recomendaciones (Weighted Average + JMSD): [86, 81, 73, 72, 92]\n",
      "Recomendaciones (Deviation from Mean + Correlation): [85, 88, 91, 61, 21]\n",
      "Recomendaciones (Deviation from Mean + JMSD): [86, 73, 81, 92, 88]\n"
     ]
    }
   ],
   "source": [
    "# Testing\n",
    "\n",
    "user_u = 112\n",
    "\n",
    "\n",
    "\n",
    "# Ítems que el usuario aún no ha valorado\n",
    "unrated_items = [item for item in ratings_df.columns if pd.isna(ratings_df.at[user_u, item])]\n",
    "\n",
    "# Predicciones para cada método\n",
    "avg_predictions_corr = {i: average_prediction(user_u, i, neighbors_corr) for i in unrated_items}\n",
    "avg_predictions_jmsd = {i: average_prediction(user_u, i, neighbors_jmsd) for i in unrated_items}\n",
    "\n",
    "wavg_predictions_corr = {i: weighted_average_prediction(user_u, i, neighbors_corr, similarities_corr) for i in unrated_items}\n",
    "wavg_predictions_jmsd = {i: weighted_average_prediction(user_u, i, neighbors_jmsd, similarities_jmsd) for i in unrated_items}\n",
    "\n",
    "dfm_predictions_corr = {i: deviation_from_mean_prediction(user_u, i, neighbors_corr) for i in unrated_items}\n",
    "dfm_predictions_jmsd = {i: deviation_from_mean_prediction(user_u, i, neighbors_jmsd) for i in unrated_items}\n",
    "\n",
    "# Recomendaciones top-N\n",
    "recommendations_avg_corr = get_recommendations(avg_predictions_corr)\n",
    "recommendations_avg_jmsd = get_recommendations(avg_predictions_jmsd)\n",
    "\n",
    "recommendations_wavg_corr = get_recommendations(wavg_predictions_corr)\n",
    "recommendations_wavg_jmsd = get_recommendations(wavg_predictions_jmsd)\n",
    "\n",
    "recommendations_dfm_corr = get_recommendations(dfm_predictions_corr)\n",
    "recommendations_dfm_jmsd = get_recommendations(dfm_predictions_jmsd)\n",
    "\n",
    "# Mostrar resultados\n",
    "print(\"Recomendaciones (Average + Correlation):\", recommendations_avg_corr)\n",
    "print(\"Recomendaciones (Average + JMSD):\", recommendations_avg_jmsd)\n",
    "\n",
    "print(\"Recomendaciones (Weighted Average + Correlation):\", recommendations_wavg_corr)\n",
    "print(\"Recomendaciones (Weighted Average + JMSD):\", recommendations_wavg_jmsd)\n",
    "\n",
    "print(\"Recomendaciones (Deviation from Mean + Correlation):\", recommendations_dfm_corr)\n",
    "print(\"Recomendaciones (Deviation from Mean + JMSD):\", recommendations_dfm_jmsd)\n"
   ]
  },
  {
   "cell_type": "markdown",
   "id": "21727c58",
   "metadata": {},
   "source": [
    "Finalmente calculamos las recomendaciones y su MAE para ver la precisión de las diferntes combinaciones de técnicas que hemos usado para el KNN"
   ]
  },
  {
   "cell_type": "code",
   "execution_count": null,
   "id": "b92c2dd0",
   "metadata": {},
   "outputs": [],
   "source": [
    "def has_test_ratings(user_u):\n",
    "    if user_u not in test_ratings_df.index:\n",
    "        return False\n",
    "    return test_ratings_df.loc[user_u].notna().any()\n"
   ]
  },
  {
   "cell_type": "code",
   "execution_count": null,
   "id": "8f5566d8",
   "metadata": {},
   "outputs": [
    {
     "name": "stderr",
     "output_type": "stream",
     "text": [
      "Procesando usuarios: 100%|██████████| 1000/1000 [3:50:59<00:00, 13.86s/it]   \n"
     ]
    }
   ],
   "source": [
    "test_users = [user_u for user_u in test_ratings_df.index if has_test_ratings(user_u)]\n",
    "test_users = test_users[:1000]\n",
    "\n",
    "\n",
    "\n",
    "from tqdm import tqdm\n",
    "\n",
    "# Diccionarios para almacenar predicciones: {(user_id, item_id): predicción}\n",
    "avg_predictions_corr = {}\n",
    "avg_predictions_jmsd = {}\n",
    "wavg_predictions_corr = {}\n",
    "wavg_predictions_jmsd = {}\n",
    "dfm_predictions_corr = {}\n",
    "dfm_predictions_jmsd = {}\n",
    "\n",
    "# Iteramos sobre todos los usuarios del test que tienen valoraciones\n",
    "for user_u in tqdm(test_users, desc=\"Procesando usuarios\"):\n",
    "    if has_test_ratings(user_u):\n",
    "\n",
    "        # Similitudes con otros usuarios\n",
    "        similarities_corr = {\n",
    "            user_v: correlation_similarity(user_u, user_v)\n",
    "            for user_v in ratings_df.index if user_v != user_u\n",
    "        }\n",
    "\n",
    "        similarities_jmsd = {\n",
    "            user_v: jmsd_similarity(user_u, user_v)\n",
    "            for user_v in ratings_df.index if user_v != user_u\n",
    "        }\n",
    "\n",
    "        # Vecinos top-K\n",
    "        neighbors_corr = get_neighbors(user_u, similarities_corr, k=20)\n",
    "        neighbors_jmsd = get_neighbors(user_u, similarities_jmsd, k=20)\n",
    "\n",
    "        # Ítems valorados por el usuario en test\n",
    "        for item_i in test_ratings_df.columns:\n",
    "            if pd.notna(test_ratings_df.at[user_u, item_i]):\n",
    "                avg_predictions_corr[(user_u, item_i)] = average_prediction(user_u, item_i, neighbors_corr)\n",
    "                avg_predictions_jmsd[(user_u, item_i)] = average_prediction(user_u, item_i, neighbors_jmsd)\n",
    "\n",
    "                wavg_predictions_corr[(user_u, item_i)] = weighted_average_prediction(user_u, item_i, neighbors_corr, similarities_corr)\n",
    "                wavg_predictions_jmsd[(user_u, item_i)] = weighted_average_prediction(user_u, item_i, neighbors_jmsd, similarities_jmsd)\n",
    "\n",
    "                dfm_predictions_corr[(user_u, item_i)] = deviation_from_mean_prediction(user_u, item_i, neighbors_corr)\n",
    "                dfm_predictions_jmsd[(user_u, item_i)] = deviation_from_mean_prediction(user_u, item_i, neighbors_jmsd)\n"
   ]
  },
  {
   "cell_type": "markdown",
   "id": "cf00ffb5",
   "metadata": {},
   "source": [
    "A continuación, calculamos el MAE"
   ]
  },
  {
   "cell_type": "code",
   "execution_count": null,
   "id": "339fa7f5",
   "metadata": {},
   "outputs": [],
   "source": [
    "def get_user_mae(user_u, predictions):\n",
    "    mae = 0\n",
    "    count = 0\n",
    "\n",
    "    if user_u not in test_ratings_df.index:\n",
    "        return None\n",
    "\n",
    "    for item_i in test_ratings_df.columns:\n",
    "        real_rating = test_ratings_df.at[user_u, item_i]\n",
    "        pred_rating = predictions.get((user_u, item_i), None)\n",
    "\n",
    "        if pd.notna(real_rating) and pred_rating is not None:\n",
    "            mae += abs(real_rating - pred_rating)\n",
    "            count += 1\n",
    "\n",
    "    if count > 0:\n",
    "        return mae / count\n",
    "    else:\n",
    "        return None\n",
    "\n",
    "\n",
    "def get_mae(predictions):\n",
    "    mae = 0\n",
    "    count = 0\n",
    "\n",
    "    for user_u in test_ratings_df.index:\n",
    "        if has_test_ratings(user_u):\n",
    "            user_mae = get_user_mae(user_u, predictions)\n",
    "            if user_mae is not None:\n",
    "                mae += user_mae\n",
    "                count += 1\n",
    "\n",
    "    if count > 0:\n",
    "        return mae / count\n",
    "    else:\n",
    "        return None\n"
   ]
  },
  {
   "cell_type": "code",
   "execution_count": null,
   "id": "defaac3b",
   "metadata": {},
   "outputs": [
    {
     "name": "stdout",
     "output_type": "stream",
     "text": [
      "MAE - Average Prediction + Correlation Similarity:       3.9418\n",
      "MAE - Average Prediction + JMSD Similarity:              3.5857\n",
      "MAE - Weighted Average Prediction + Correlation:         3.9397\n",
      "MAE - Weighted Average Prediction + JMSD:                3.5846\n",
      "MAE - Deviation from Mean Prediction + Correlation:      3.5037\n",
      "MAE - Deviation from Mean Prediction + JMSD:             3.4513\n"
     ]
    }
   ],
   "source": [
    "mae_avg_corr = get_mae(avg_predictions_corr)\n",
    "mae_avg_jmsd = get_mae(avg_predictions_jmsd)\n",
    "mae_wavg_corr = get_mae(wavg_predictions_corr)\n",
    "mae_wavg_jmsd = get_mae(wavg_predictions_jmsd)\n",
    "mae_dfm_corr = get_mae(dfm_predictions_corr)\n",
    "mae_dfm_jmsd = get_mae(dfm_predictions_jmsd)\n",
    "\n",
    "print(f\"MAE - Average Prediction + Correlation Similarity:       {mae_avg_corr:.4f}\")\n",
    "print(f\"MAE - Average Prediction + JMSD Similarity:              {mae_avg_jmsd:.4f}\")\n",
    "print(f\"MAE - Weighted Average Prediction + Correlation:         {mae_wavg_corr:.4f}\")\n",
    "print(f\"MAE - Weighted Average Prediction + JMSD:                {mae_wavg_jmsd:.4f}\")\n",
    "print(f\"MAE - Deviation from Mean Prediction + Correlation:      {mae_dfm_corr:.4f}\")\n",
    "print(f\"MAE - Deviation from Mean Prediction + JMSD:             {mae_dfm_jmsd:.4f}\")\n"
   ]
  },
  {
   "cell_type": "markdown",
   "id": "b7ea2657",
   "metadata": {},
   "source": [
    "## ----- MATRIX FACTORIZATION -----"
   ]
  },
  {
   "cell_type": "markdown",
   "id": "497dffd7",
   "metadata": {},
   "source": [
    "## Carga del dataset\n"
   ]
  },
  {
   "cell_type": "markdown",
   "id": "ccd6c769",
   "metadata": {},
   "source": [
    "Inicialmente definimos algunas constantes que nos serán necesarias durante la codificación del algoritmo:"
   ]
  },
  {
   "cell_type": "code",
   "execution_count": null,
   "id": "cd7a1291",
   "metadata": {},
   "outputs": [],
   "source": [
    "import pandas as pd\n",
    "import numpy as np\n",
    "import matplotlib.pyplot as plt\n",
    "import random\n",
    "import math\n",
    "from sklearn.model_selection import train_test_split\n",
    "\n",
    "# Cargar y preprocesar datos\n",
    "df = pd.read_excel('jester-data-1.xls', engine='xlrd', header=None)\n",
    "df = df.iloc[:, 1:]\n",
    "df.replace(99.0, np.nan, inplace=True)\n",
    "long_data = df.stack().reset_index()\n",
    "long_data.columns = ['user_raw', 'item_raw', 'rating']\n",
    "user_mapping = {old: new for new, old in enumerate(sorted(long_data['user_raw'].unique()))}\n",
    "item_mapping = {old: new for new, old in enumerate(sorted(long_data['item_raw'].unique()))}\n",
    "long_data['user_id'] = long_data['user_raw'].map(user_mapping)\n",
    "long_data['item_id'] = long_data['item_raw'].map(item_mapping)\n",
    "\n",
    "# División train/test\n",
    "train_data, test_data = train_test_split(\n",
    "    long_data[['user_id', 'item_id', 'rating']], test_size=0.2, random_state=42)\n",
    "\n",
    "\n"
   ]
  },
  {
   "cell_type": "code",
   "execution_count": null,
   "id": "ec8ee798",
   "metadata": {},
   "outputs": [],
   "source": [
    "NUM_USERS = long_data['user_id'].nunique()\n",
    "NUM_ITEMS = 100\n",
    "num_factors_fixed = 10\n",
    "regularization_fixed = 0.1\n",
    "NUM_ITERATIONS = 10\n",
    "N = 5\n",
    "theta = 4"
   ]
  },
  {
   "cell_type": "code",
   "execution_count": null,
   "id": "38704913",
   "metadata": {},
   "outputs": [],
   "source": [
    "# Preparar datos para entrenamiento\n",
    "def prepare_matrices(train_data, test_data):\n",
    "    ratings = [[None for _ in range(NUM_ITEMS)] for _ in range(NUM_USERS)]\n",
    "    test_ratings = [[None for _ in range(NUM_ITEMS)] for _ in range(NUM_USERS)]\n",
    "\n",
    "    for row in train_data.itertuples(index=False):\n",
    "        ratings[int(row.user_id)][int(row.item_id)] = float(row.rating)\n",
    "    for row in test_data.itertuples(index=False):\n",
    "        test_ratings[int(row.user_id)][int(row.item_id)] = float(row.rating)\n",
    "\n",
    "    return ratings, test_ratings\n"
   ]
  },
  {
   "cell_type": "code",
   "execution_count": null,
   "id": "5121e187",
   "metadata": {},
   "outputs": [],
   "source": [
    "NUM_FACTORS = 7\n",
    "LEARNING_RATE = 0.001 # gamma\n",
    "REGULARIZATION = 0.1 # lambda"
   ]
  },
  {
   "cell_type": "code",
   "execution_count": null,
   "id": "2516bb3e",
   "metadata": {},
   "outputs": [],
   "source": [
    "# Inicialización aleatoria\n",
    "def init_factors(num_users, num_items, num_factors):\n",
    "    p = [[random.random() for _ in range(num_factors)] for _ in range(num_users)]\n",
    "    q = [[random.random() for _ in range(num_factors)] for _ in range(num_items)]\n",
    "    return p, q\n",
    "\n",
    "# Cálculo de predicción\n",
    "def compute_prediction(p_u, q_i):\n",
    "    pred = sum(p_u[k] * q_i[k] for k in range(len(p_u)))\n",
    "    return max(min(pred, 10), -10)\n",
    "\n",
    "\n",
    "# Entrenamiento\n",
    "def train_matrix_factorization(p, q, ratings, num_factors):\n",
    "    for _ in range(NUM_ITERATIONS):\n",
    "        updated_p = [list(row) for row in p]\n",
    "        updated_q = [list(row) for row in q]\n",
    "\n",
    "        for u in range(NUM_USERS):\n",
    "            for i in range(NUM_ITEMS):\n",
    "                if ratings[u][i] is not None:\n",
    "                    pred = compute_prediction(p[u], q[i])\n",
    "                    error = ratings[u][i] - pred\n",
    "                    for k in range(num_factors):\n",
    "                        updated_p[u][k] += LEARNING_RATE * (error * q[i][k] - REGULARIZATION * p[u][k])\n",
    "                        updated_q[i][k] += LEARNING_RATE * (error * p[u][k] - REGULARIZATION * q[i][k])\n",
    "\n",
    "        p, q = updated_p, updated_q\n",
    "    return p, q"
   ]
  },
  {
   "cell_type": "markdown",
   "id": "b7e7c358",
   "metadata": {},
   "source": [
    "Para poder evaluar qué tan bien trabaja el modelo, se van a crear funciones para ver sus métricas, en especial RMSE  y MAE"
   ]
  },
  {
   "cell_type": "code",
   "execution_count": null,
   "id": "fef50e23",
   "metadata": {},
   "outputs": [],
   "source": [
    "# Métricas\n",
    "def get_predictions(p, q, test_ratings):\n",
    "    predictions = [[None for _ in range(NUM_ITEMS)] for _ in range(NUM_USERS)]\n",
    "    for u in range(NUM_USERS):\n",
    "        for i in range(NUM_ITEMS):\n",
    "            if test_ratings[u][i] is not None:\n",
    "                predictions[u][i] = compute_prediction(p[u], q[i])\n",
    "    return predictions\n",
    "\n",
    "def get_user_rmse(u, predictions, test_ratings):\n",
    "    mse, count = 0, 0\n",
    "    for i in range(NUM_ITEMS):\n",
    "        if test_ratings[u][i] is not None and predictions[u][i] is not None:\n",
    "            mse += (test_ratings[u][i] - predictions[u][i]) ** 2\n",
    "            count += 1\n",
    "    return math.sqrt(mse / count) if count > 0 else None\n",
    "\n",
    "def get_rmse(predictions, test_ratings):\n",
    "    total_rmse = 0\n",
    "    count = 0\n",
    "    for u in range(NUM_USERS):\n",
    "        rmse = get_user_rmse(u, predictions, test_ratings)\n",
    "        if rmse is not None and not math.isnan(rmse):\n",
    "            total_rmse += rmse\n",
    "            count += 1\n",
    "    return total_rmse / count if count > 0 else float('nan')"
   ]
  },
  {
   "cell_type": "markdown",
   "id": "47003746",
   "metadata": {},
   "source": [
    "Primero, se va a empezar haciendo pruebas para ver qué valor como rning rate puede dar un resultado más óptimo"
   ]
  },
  {
   "cell_type": "code",
   "execution_count": null,
   "id": "d7b59208",
   "metadata": {},
   "outputs": [
    {
     "name": "stdout",
     "output_type": "stream",
     "text": [
      "Probando LEARNING_RATE = 0.0001\n",
      "RMSE: 4.644585213280854\n",
      "Probando LEARNING_RATE = 0.0005\n",
      "RMSE: 10.986328114082575\n",
      "Probando LEARNING_RATE = 0.001\n",
      "RMSE: 11.241986025944614\n",
      "Probando LEARNING_RATE = 0.005\n",
      "RMSE: 11.957190038015147\n",
      "Probando LEARNING_RATE = 0.01\n",
      "RMSE: 12.135599955624874\n"
     ]
    },
    {
     "data": {
      "image/png": "[encoded data removed]",
      "text/plain": [
       "<Figure size 1000x600 with 1 Axes>"
      ]
     },
     "metadata": {},
     "output_type": "display_data"
    }
   ],
   "source": [
    "# Bucle de prueba con diferentes factores latentes\n",
    "factor_range = list(range(2, 21, 2))\n",
    "rmse_results = []\n",
    "\n",
    "ratings, test_ratings = prepare_matrices(train_data, test_data)\n",
    "\n",
    "# Variables fijas para estas pruebas\n",
    "num_factors_fixed = 10\n",
    "regularization_fixed = 0.1\n",
    "\n",
    "learning_rates = [0.0001, 0.0005, 0.001, 0.005, 0.01]\n",
    "rmse_lr_results = []\n",
    "\n",
    "ratings, test_ratings = prepare_matrices(train_data, test_data)\n",
    "\n",
    "for lr in learning_rates:\n",
    "    print(f\"Probando LEARNING_RATE = {lr}\")\n",
    "    LEARNING_RATE = lr\n",
    "    REGULARIZATION = regularization_fixed\n",
    "    p, q = init_factors(NUM_USERS, NUM_ITEMS, num_factors_fixed)\n",
    "    p, q = train_matrix_factorization(p, q, ratings, num_factors_fixed)\n",
    "    predictions = get_predictions(p, q, test_ratings)\n",
    "    rmse = get_rmse(predictions, test_ratings)\n",
    "    print(f\"RMSE: {rmse}\")\n",
    "    rmse_lr_results.append(rmse)\n",
    "\n",
    "plt.figure(figsize=(10, 6))\n",
    "plt.plot(learning_rates, rmse_lr_results, marker='o', linestyle='-', color='g')\n",
    "plt.xlabel('Learning Rate')\n",
    "plt.ylabel('RMSE en test')\n",
    "plt.title('RMSE vs. Learning Rate')\n",
    "plt.grid(True)\n",
    "plt.tight_layout()\n",
    "plt.show()\n"
   ]
  },
  {
   "cell_type": "markdown",
   "id": "557c7f66",
   "metadata": {},
   "source": [
    "En el siguiente caso, se van a hacer las pruebas para hallar el mejor valor como factor latente."
   ]
  },
  {
   "cell_type": "code",
   "execution_count": null,
   "id": "234ffc9f",
   "metadata": {},
   "outputs": [
    {
     "name": "stdout",
     "output_type": "stream",
     "text": [
      "Probando num_factors = 2\n",
      "RMSE: 4.28959252551629\n",
      "Probando num_factors = 4\n",
      "RMSE: 4.26691387381344\n",
      "Probando num_factors = 6\n",
      "RMSE: 4.236618520523054\n",
      "Probando num_factors = 8\n",
      "RMSE: 4.235413706126908\n",
      "Probando num_factors = 10\n",
      "RMSE: 4.2406307859202315\n",
      "Probando num_factors = 12\n",
      "RMSE: 4.2289238157558815\n",
      "Probando num_factors = 14\n",
      "RMSE: 4.22627954113016\n",
      "Probando num_factors = 16\n",
      "RMSE: 4.228143595551712\n",
      "Probando num_factors = 18\n",
      "RMSE: 4.218264145118416\n",
      "Probando num_factors = 20\n",
      "RMSE: 4.234140557405702\n"
     ]
    },
    {
     "data": {
      "image/png": "[encoded data removed]",
      "text/plain": [
       "<Figure size 1000x600 with 1 Axes>"
      ]
     },
     "metadata": {},
     "output_type": "display_data"
    }
   ],
   "source": [
    "\n",
    "factor_range = list(range(2, 21, 2))\n",
    "rmse_results = []\n",
    "\n",
    "LEARNING_RATE = 0.001\n",
    "REGULARIZATION = 0.1\n",
    "NUM_ITERATIONS = 10\n",
    "\n",
    "ratings, test_ratings = prepare_matrices(train_data, test_data)\n",
    "\n",
    "for num_factors in factor_range:\n",
    "    print(f\"Probando num_factors = {num_factors}\")\n",
    "    p, q = init_factors(NUM_USERS, NUM_ITEMS, num_factors)\n",
    "    p, q = train_matrix_factorization(p, q, ratings, num_factors, LEARNING_RATE, REGULARIZATION, NUM_ITERATIONS)\n",
    "    predictions = get_predictions(p, q, test_ratings)\n",
    "    rmse = get_rmse(predictions, test_ratings)\n",
    "    print(f\"RMSE: {rmse}\")\n",
    "    rmse_results.append(rmse)\n",
    "\n",
    "# ------------ Visualización ------------\n",
    "plt.figure(figsize=(10, 6))\n",
    "plt.plot(factor_range, rmse_results, marker='o', linestyle='-', color='blue')\n",
    "plt.xlabel('Número de factores latentes')\n",
    "plt.ylabel('RMSE en test')\n",
    "plt.title('RMSE vs. Número de factores latentes')\n",
    "plt.grid(True)\n",
    "plt.tight_layout()\n",
    "plt.show()\n"
   ]
  },
  {
   "cell_type": "markdown",
   "id": "a80248db",
   "metadata": {},
   "source": [
    "## Añadiendo los bias"
   ]
  },
  {
   "cell_type": "code",
   "execution_count": null,
   "id": "8ae872f8",
   "metadata": {},
   "outputs": [],
   "source": [
    "import pandas as pd\n",
    "import numpy as np\n",
    "from sklearn.model_selection import train_test_split\n",
    "import math\n",
    "import random\n",
    "\n",
    "# -------------- 1. Preprocesamiento ---------------\n",
    "\n",
    "\n",
    "df = pd.read_excel('jester-data-1.xls',engine='xlrd', header=None)\n",
    "\n",
    "df = df.iloc[:, 1:]\n",
    "\n",
    "df.replace(99.0, np.nan, inplace=True)\n",
    "\n",
    "long_data = df.stack().reset_index()\n",
    "long_data.columns = ['user_raw', 'item_raw', 'rating']\n",
    "\n",
    "# Mapear usuarios y items a índices consecutivos\n",
    "user_mapping = {old: new for new, old in enumerate(sorted(long_data['user_raw'].unique()))}\n",
    "item_mapping = {old: new for new, old in enumerate(sorted(long_data['item_raw'].unique()))}\n",
    "long_data['user_id'] = long_data['user_raw'].map(user_mapping)\n",
    "long_data['item_id'] = long_data['item_raw'].map(item_mapping)\n",
    "\n",
    "# -------------- 2. División Train/Test ---------------\n",
    "\n",
    "train_data, test_data = train_test_split(\n",
    "    long_data[['user_id', 'item_id', 'rating']], test_size=0.2, random_state=42)\n",
    "\n",
    "NUM_USERS = long_data['user_id'].nunique()\n",
    "NUM_ITEMS = 100\n",
    "\n",
    "# Crear matrices vacías\n",
    "ratings = [[None for _ in range(NUM_ITEMS)] for _ in range(NUM_USERS)]\n",
    "test_ratings = [[None for _ in range(NUM_ITEMS)] for _ in range(NUM_USERS)]\n",
    "\n",
    "# Rellenar la matriz de entrenamiento\n",
    "for row in train_data.itertuples(index=False):\n",
    "    u, i, r = int(row.user_id), int(row.item_id), float(row.rating)\n",
    "    ratings[u][i] = r\n",
    "\n",
    "# Rellenar la matriz de test\n",
    "for row in test_data.itertuples(index=False):\n",
    "    u, i, r = int(row.user_id), int(row.item_id), float(row.rating)\n",
    "    test_ratings[u][i] = r\n"
   ]
  },
  {
   "cell_type": "code",
   "execution_count": null,
   "id": "2efec3b2",
   "metadata": {},
   "outputs": [],
   "source": [
    "NUM_FACTORS = 10\n",
    "NUM_ITERATIONS = 10\n",
    "LEARNING_RATE = 0.001\n",
    "REGULARIZATION = 0.1\n"
   ]
  },
  {
   "cell_type": "code",
   "execution_count": null,
   "id": "4355a80b",
   "metadata": {},
   "outputs": [],
   "source": [
    "# --------- 1. Preparar matrices ---------\n",
    "def prepare_matrices(train_data, test_data):\n",
    "    ratings = [[None for _ in range(NUM_ITEMS)] for _ in range(NUM_USERS)]\n",
    "    test_ratings = [[None for _ in range(NUM_ITEMS)] for _ in range(NUM_USERS)]\n",
    "\n",
    "    for row in train_data.itertuples(index=False):\n",
    "        ratings[int(row.user_id)][int(row.item_id)] = float(row.rating)\n",
    "    for row in test_data.itertuples(index=False):\n",
    "        test_ratings[int(row.user_id)][int(row.item_id)] = float(row.rating)\n",
    "\n",
    "    return ratings, test_ratings"
   ]
  },
  {
   "cell_type": "code",
   "execution_count": null,
   "id": "122f4a04",
   "metadata": {},
   "outputs": [],
   "source": [
    "# --------- 2. Inicialización ---------\n",
    "def init_factors_biased(num_users, num_items, num_factors):\n",
    "    p = [[random.uniform(-0.01, 0.01) for _ in range(num_factors)] for _ in range(num_users)]\n",
    "    q = [[random.uniform(-0.01, 0.01) for _ in range(num_factors)] for _ in range(num_items)]\n",
    "    bu = [random.uniform(-0.01, 0.01) for _ in range(num_users)]\n",
    "    bi = [random.uniform(-0.01, 0.01) for _ in range(num_items)]\n",
    "    return p, q, bu, bi\n",
    "\n",
    "def compute_rating_average(ratings):\n",
    "    total = 0\n",
    "    count = 0\n",
    "    for u in range(NUM_USERS):\n",
    "        for i in range(NUM_ITEMS):\n",
    "            if ratings[u][i] is not None:\n",
    "                total += ratings[u][i]\n",
    "                count += 1\n",
    "    return total / count if count > 0 else 0"
   ]
  },
  {
   "cell_type": "markdown",
   "id": "b9afc504",
   "metadata": {},
   "source": [
    "Definimos una nueva función para calcular las predicciones:"
   ]
  },
  {
   "cell_type": "code",
   "execution_count": null,
   "id": "03ce0c2d",
   "metadata": {},
   "outputs": [],
   "source": [
    "def compute_biased_prediction (avg, b_u, b_i, p_u, q_i):\n",
    "  deviation = 0\n",
    "  for k in range(NUM_FACTORS):\n",
    "    deviation += p_u[k] * q_i[k]\n",
    "\n",
    "  prediction = avg + b_u + b_i + deviation\n",
    "  if math.isnan(prediction) or math.isinf(prediction):\n",
    "        prediction = avg\n",
    "  return prediction"
   ]
  },
  {
   "cell_type": "markdown",
   "id": "b6b15d62",
   "metadata": {},
   "source": [
    "Calculamos el voto medio:"
   ]
  },
  {
   "cell_type": "code",
   "execution_count": null,
   "id": "54c61d6f",
   "metadata": {},
   "outputs": [],
   "source": [
    "def train_biased_mf(p, q, bu, bi, ratings, num_factors, mu):\n",
    "    for it in range(NUM_ITERATIONS):\n",
    "        updated_p = [list(row) for row in p]\n",
    "        updated_q = [list(row) for row in q]\n",
    "        updated_bu = list(bu)\n",
    "        updated_bi = list(bi)\n",
    "\n",
    "        for u in range(NUM_USERS):\n",
    "            for i in range(NUM_ITEMS):\n",
    "                if ratings[u][i] is not None:\n",
    "                    prediction = compute_biased_prediction(mu, bu[u], bi[i], p[u], q[i])\n",
    "                    error = ratings[u][i] - prediction\n",
    "\n",
    "                    for k in range(num_factors):\n",
    "                        updated_p[u][k] += LEARNING_RATE * (error * q[i][k] - REGULARIZATION * p[u][k])\n",
    "                        updated_q[i][k] += LEARNING_RATE * (error * p[u][k] - REGULARIZATION * q[i][k])\n",
    "\n",
    "                    updated_bu[u] += LEARNING_RATE * (error - REGULARIZATION * bu[u])\n",
    "                    updated_bi[i] += LEARNING_RATE * (error - REGULARIZATION * bi[i])\n",
    "\n",
    "        p, q = updated_p, updated_q\n",
    "        bu, bi = updated_bu, updated_bi\n",
    "\n",
    "    return p, q, bu, bi\n",
    "\n",
    "# --------- 5. Predicciones y métricas ---------\n",
    "def get_biased_predictions(p, q, bu, bi, mu, test_ratings):\n",
    "    predictions = [[None for _ in range(NUM_ITEMS)] for _ in range(NUM_USERS)]\n",
    "    for u in range(NUM_USERS):\n",
    "        for i in range(NUM_ITEMS):\n",
    "            if test_ratings[u][i] is not None:\n",
    "                pred = compute_biased_prediction(mu, bu[u], bi[i], p[u], q[i])\n",
    "                predictions[u][i] = max(min(pred, 10), -10)\n",
    "    return predictions\n"
   ]
  },
  {
   "cell_type": "code",
   "execution_count": null,
   "id": "14dccc17",
   "metadata": {},
   "outputs": [],
   "source": [
    "def get_user_rmse(u, predictions, test_ratings):\n",
    "    mse, count = 0, 0\n",
    "    for i in range(NUM_ITEMS):\n",
    "        if test_ratings[u][i] is not None and predictions[u][i] is not None:\n",
    "            mse += (test_ratings[u][i] - predictions[u][i]) ** 2\n",
    "            count += 1\n",
    "    return math.sqrt(mse / count) if count > 0 else None\n",
    "\n",
    "def get_rmse(predictions, test_ratings):\n",
    "    total_rmse = 0\n",
    "    count = 0\n",
    "    for u in range(NUM_USERS):\n",
    "        rmse = get_user_rmse(u, predictions, test_ratings)\n",
    "        if rmse is not None and not math.isnan(rmse):\n",
    "            total_rmse += rmse\n",
    "            count += 1\n",
    "    return total_rmse / count if count > 0 else float('nan')"
   ]
  },
  {
   "cell_type": "code",
   "execution_count": null,
   "id": "a0db84d6",
   "metadata": {},
   "outputs": [
    {
     "name": "stdout",
     "output_type": "stream",
     "text": [
      "Biased RMSE: 5.0021\n"
     ]
    }
   ],
   "source": [
    "# --------- 6. Ejecución ---------\n",
    "ratings, test_ratings = prepare_matrices(train_data, test_data)\n",
    "rating_average = compute_rating_average(ratings)\n",
    "\n",
    "p, q, bu, bi = init_factors_biased(NUM_USERS, NUM_ITEMS, NUM_FACTORS)\n",
    "p, q, bu, bi = train_biased_mf(p, q, bu, bi, ratings, NUM_FACTORS, rating_average)\n",
    "\n",
    "predictions = get_biased_predictions(p, q, bu, bi, rating_average, test_ratings)\n",
    "rmse = get_rmse(predictions, test_ratings)\n",
    "print(f\"Biased RMSE: {rmse:.4f}\")"
   ]
  },
  {
   "cell_type": "markdown",
   "id": "4d82d6dd",
   "metadata": {},
   "source": [
    "## ----- BERNOULLI -----"
   ]
  },
  {
   "cell_type": "markdown",
   "id": "bbb19533",
   "metadata": {},
   "source": [
    "## Carga del dataset\n"
   ]
  },
  {
   "cell_type": "markdown",
   "id": "33d50dd2",
   "metadata": {},
   "source": [
    "Inicialmente definimos algunas constantes que nos serán necesarias durante la codificación del algoritmo, al igual que se separan los datasets correpsondienetsy se declaran las variables pertinentes. Además, se realiza el proprocesamiento al dataset. Además, por la naturaleza de este método, se ha optado por tomar una muestra en lugar de utilizar todo el dataset"
   ]
  },
  {
   "cell_type": "code",
   "execution_count": null,
   "id": "cd72ffb1",
   "metadata": {},
   "outputs": [],
   "source": [
    "import pandas as pd\n",
    "import numpy as np\n",
    "from sklearn.model_selection import train_test_split\n",
    "import math\n",
    "import random\n",
    "\n",
    "# ------------ Parámetros generales ------------\n",
    "NUM_FACTORS = 7\n",
    "LEARNING_RATE = 0.001\n",
    "REGULARIZATION = 0.1\n",
    "NUM_ITERATIONS = 10\n",
    "N = 5  # recomendaciones por usuario\n",
    "MIN_RATING = -10\n",
    "MAX_RATING = 10\n",
    "SCORES = np.arange(MIN_RATING, MAX_RATING + 0.01, 0.01)\n",
    "\n",
    "\n",
    "# ------------ 1. Preprocesamiento ------------\n",
    "df = pd.read_excel('jester-data-1.xls', engine='xlrd', header=None).iloc[:, 1:]\n",
    "\n",
    "df.replace(99.0, np.nan, inplace=True)\n",
    "\n",
    "\n",
    "long_data = df.stack().reset_index()\n",
    "long_data.columns = ['user_raw', 'item_raw', 'rating']\n",
    "\n",
    "# Tomamos una muestra más pequeña\n",
    "sample_size = 1000  \n",
    "sampled_users = long_data['user_raw'].drop_duplicates().sample(sample_size, random_state=42)\n",
    "long_data = long_data[long_data['user_raw'].isin(sampled_users)]\n",
    "\n",
    "# Remapeamos usuarios e ítems\n",
    "user_mapping = {old: new for new, old in enumerate(sorted(long_data['user_raw'].unique()))}\n",
    "item_mapping = {old: new for new, old in enumerate(sorted(long_data['item_raw'].unique()))}\n",
    "long_data['user_id'] = long_data['user_raw'].map(user_mapping)\n",
    "long_data['item_id'] = long_data['item_raw'].map(item_mapping)\n",
    "\n",
    "NUM_USERS = long_data['user_id'].nunique()\n",
    "NUM_ITEMS = 100  \n",
    "\n",
    "# ------------ 2. División Train/Test ------------\n",
    "train_data, test_data = train_test_split(\n",
    "    long_data[['user_id', 'item_id', 'rating']], test_size=0.2, random_state=42)\n"
   ]
  },
  {
   "cell_type": "code",
   "execution_count": null,
   "id": "4fde8cc3",
   "metadata": {},
   "outputs": [],
   "source": [
    "# ------------ 3. Matrices de ratings ------------\n",
    "ratings = np.full((NUM_USERS, NUM_ITEMS), np.nan)\n",
    "test_ratings = np.full((NUM_USERS, NUM_ITEMS), np.nan)\n",
    "\n",
    "for row in train_data.itertuples(index=False):\n",
    "    ratings[int(row.user_id), int(row.item_id)] = float(row.rating)\n",
    "\n",
    "for row in test_data.itertuples(index=False):\n",
    "    test_ratings[int(row.user_id), int(row.item_id)] = float(row.rating)\n",
    "\n",
    "# ------------ 4. Inicialización de U y V ------------\n",
    "U = np.random.rand(len(SCORES), NUM_USERS, NUM_FACTORS)\n",
    "V = np.random.rand(len(SCORES), NUM_ITEMS, NUM_FACTORS)\n"
   ]
  },
  {
   "cell_type": "code",
   "execution_count": null,
   "id": "ab98c0c9",
   "metadata": {},
   "outputs": [],
   "source": []
  },
  {
   "cell_type": "code",
   "execution_count": null,
   "id": "659ea789",
   "metadata": {},
   "outputs": [],
   "source": [
    "NUM_USERS = 10000\n",
    "NUM_ITEMS = 100\n",
    "\n",
    "MIN_RATING = -10\n",
    "MAX_RATING = 10\n",
    "\n",
    "SCORES = np.arange(MIN_RATING, MAX_RATING + 0.01, 0.01)"
   ]
  },
  {
   "cell_type": "markdown",
   "id": "73dd106d",
   "metadata": {},
   "source": [
    "## Inicialización del modelo\n",
    "\n",
    "Definimos los parámetros necesarios para implementar la factorización matricial mediante BeMF, al igual que las matrices de factores con valores uniformes aleatorios en el intervalo \\[0, 1]."
   ]
  },
  {
   "cell_type": "code",
   "execution_count": null,
   "id": "961f5959",
   "metadata": {},
   "outputs": [],
   "source": [
    "NUM_FACTORS = 7\n",
    "LEARNING_RATE = 0.001\n",
    "REGULARIZATION = 0.1"
   ]
  },
  {
   "cell_type": "code",
   "execution_count": null,
   "id": "be4ed065",
   "metadata": {},
   "outputs": [],
   "source": [
    "U = [[[random.random() for _ in range(NUM_FACTORS)] for _ in range(NUM_USERS)] for _ in range(len(SCORES))]\n",
    "V = [[[random.random() for _ in range(NUM_FACTORS)] for _ in range(NUM_ITEMS)] for _ in range(len(SCORES))]"
   ]
  },
  {
   "cell_type": "markdown",
   "id": "1768b52b",
   "metadata": {},
   "source": [
    "## Cálculo de las predicciones\n",
    "\n"
   ]
  },
  {
   "cell_type": "code",
   "execution_count": null,
   "id": "17ced6d6",
   "metadata": {},
   "outputs": [],
   "source": [
    "def logit(x):\n",
    "    return 1 / (1 + np.exp(-x))"
   ]
  },
  {
   "cell_type": "code",
   "execution_count": null,
   "id": "1edb7384",
   "metadata": {},
   "outputs": [],
   "source": [
    "def compute_prediction(u, i):\n",
    "    logits = np.dot(U[:, u, :], V[:, i, :].T).diagonal()\n",
    "    probs = logit(logits)\n",
    "    s_idx = np.argmax(probs)\n",
    "    return SCORES[s_idx], probs[s_idx]"
   ]
  },
  {
   "cell_type": "markdown",
   "id": "88641187",
   "metadata": {},
   "source": [
    "## Aprendizaje de los factores latentes\n",
    "\n",
    "El proceso de entrenamiento implicar aplicar las operaciones de actualización de las matrices de factores hasta que el algoritmo converja. En general, esta convergencia suele prefijarse como el número de iteraciones que realizamos sobre las operaciones de actualización:"
   ]
  },
  {
   "cell_type": "code",
   "execution_count": null,
   "id": "61fa6e82",
   "metadata": {},
   "outputs": [],
   "source": [
    "NUM_ITERATIONS = 10"
   ]
  },
  {
   "cell_type": "code",
   "execution_count": null,
   "id": "4ca12f1d",
   "metadata": {},
   "outputs": [
    {
     "name": "stdout",
     "output_type": "stream",
     "text": [
      "Iteración 1 de 10\n",
      "Iteración 2 de 10\n",
      "Iteración 3 de 10\n",
      "Iteración 4 de 10\n",
      "Iteración 5 de 10\n",
      "Iteración 6 de 10\n",
      "Iteración 7 de 10\n",
      "Iteración 8 de 10\n",
      "Iteración 9 de 10\n",
      "Iteración 10 de 10\n",
      "MAE = 6.36684524626143\n",
      "RMSE = 7.807222136281935\n"
     ]
    }
   ],
   "source": [
    "for it in range(NUM_ITERATIONS):\n",
    "    print(f\"Iteración {it + 1} de {NUM_ITERATIONS}\")\n",
    "    for s in range(len(SCORES)):\n",
    "        for u in range(NUM_USERS):\n",
    "            rated_items = ~np.isnan(ratings[u])\n",
    "            for i in np.where(rated_items)[0]:\n",
    "                r = ratings[u, i]\n",
    "                dot = np.dot(U[s, u], V[s, i])\n",
    "                grad = ((1 - logit(dot)) if r == SCORES[s] else -logit(dot))\n",
    "                U[s, u] += LEARNING_RATE * (grad * V[s, i] - REGULARIZATION * U[s, u])\n",
    "        for i in range(NUM_ITEMS):\n",
    "            rated_users = ~np.isnan(ratings[:, i])\n",
    "            for u in np.where(rated_users)[0]:\n",
    "                r = ratings[u, i]\n",
    "                dot = np.dot(U[s, u], V[s, i])\n",
    "                grad = ((1 - logit(dot)) if r == SCORES[s] else -logit(dot))\n",
    "                V[s, i] += LEARNING_RATE * (grad * U[s, u] - REGULARIZATION * V[s, i])\n",
    "\n",
    "# ------------ 7. Predicción ------------\n",
    "predictions = np.full((NUM_USERS, NUM_ITEMS), np.nan)\n",
    "\n",
    "for u in range(NUM_USERS):\n",
    "    for i in range(NUM_ITEMS):\n",
    "        if not np.isnan(test_ratings[u, i]):\n",
    "            pred, _ = compute_prediction(u, i)\n",
    "            predictions[u, i] = pred\n",
    "\n",
    "# ------------ 8. Métricas (implementa si lo deseas) ------------\n",
    "def get_mae(preds):\n",
    "    mask = ~np.isnan(test_ratings)\n",
    "    return np.mean(np.abs(preds[mask] - test_ratings[mask]))\n",
    "\n",
    "def get_rmse(preds):\n",
    "    mask = ~np.isnan(test_ratings)\n",
    "    return np.sqrt(np.mean((preds[mask] - test_ratings[mask]) ** 2))\n",
    "\n",
    "\n",
    "print(\"MAE =\", get_mae(predictions))\n",
    "print(\"RMSE =\", get_rmse(predictions))\n"
   ]
  },
  {
   "cell_type": "code",
   "execution_count": null,
   "id": "4ed39fb5",
   "metadata": {},
   "outputs": [],
   "source": [
    "N = 5"
   ]
  },
  {
   "cell_type": "code",
   "execution_count": null,
   "id": "96fd29a7",
   "metadata": {},
   "outputs": [],
   "source": [
    "def get_precision(preds, test, threshold=0, top_n=5):\n",
    "    precisions = []\n",
    "\n",
    "    for u in range(NUM_USERS):\n",
    "        # Índices de ítems donde hay predicción y test válido\n",
    "        valid_items = ~np.isnan(preds[u]) & ~np.isnan(test[u])\n",
    "\n",
    "        if np.sum(valid_items) == 0:\n",
    "            continue  # salta si no hay datos para ese usuario\n",
    "\n",
    "        user_preds = preds[u][valid_items]\n",
    "        user_test = test[u][valid_items]\n",
    "        item_indices = np.where(valid_items)[0]\n",
    "\n",
    "        # Tomar top-N ítems predichos\n",
    "        top_indices = item_indices[np.argsort(user_preds)[::-1][:top_n]]\n",
    "\n",
    "        # Calcular número de relevantes entre los top-N\n",
    "        relevant = sum(test[u][i] > threshold for i in top_indices)\n",
    "        precisions.append(relevant / top_n)\n",
    "\n",
    "    return np.mean(precisions) if precisions else float('nan')\n"
   ]
  },
  {
   "cell_type": "code",
   "execution_count": null,
   "id": "56ac53b5",
   "metadata": {},
   "outputs": [],
   "source": [
    "def get_recommendations(predictions):\n",
    "    top_items = np.argsort(predictions)[::-1][:N]\n",
    "    return top_items.tolist()\n"
   ]
  },
  {
   "cell_type": "code",
   "execution_count": null,
   "id": "7edf6f59",
   "metadata": {},
   "outputs": [
    {
     "name": "stdout",
     "output_type": "stream",
     "text": [
      "Precision = 0.5982\n"
     ]
    }
   ],
   "source": [
    "precision = get_precision(predictions, test_ratings, threshold=0, top_n=N)\n",
    "print(\"Precision =\", precision)\n"
   ]
  },
  {
   "cell_type": "code",
   "execution_count": null,
   "id": "af9aaa63",
   "metadata": {},
   "outputs": [
    {
     "data": {
      "image/png": "[encoded data removed]",
      "text/plain": [
       "<Figure size 640x480 with 1 Axes>"
      ]
     },
     "metadata": {},
     "output_type": "display_data"
    }
   ],
   "source": [
    "import matplotlib.pyplot as plt\n",
    "errors = predictions[~np.isnan(test_ratings)] - test_ratings[~np.isnan(test_ratings)]\n",
    "plt.hist(errors, bins=50)\n",
    "plt.title(\"Distribución de errores\")\n",
    "plt.xlabel(\"Error (predicción - real)\")\n",
    "plt.ylabel(\"Frecuencia\")\n",
    "plt.show()\n"
   ]
  },
  {
   "cell_type": "markdown",
   "id": "f8536cbc",
   "metadata": {},
   "source": [
    "## ----- NEURAL COLLABORATIVE FILTERING -----"
   ]
  },
  {
   "cell_type": "code",
   "execution_count": null,
   "id": "9d34b3fb",
   "metadata": {},
   "outputs": [
    {
     "name": "stdout",
     "output_type": "stream",
     "text": [
      "(24983, 1)\n",
      "                                                   0\n",
      "0  74;-7,82;8,79;-9,66;-8,16;-7,52;-8,5;-9,85;4,1...\n",
      "1  100;4,08;-0,29;6,36;4,37;-2,38;-9,66;-0,73;-5,...\n",
      "2  49;99;99;99;99;9,03;9,27;9,03;9,27;99;99;7,33;...\n",
      "3  48;99;8,35;99;99;1,8;8,16;-2,82;6,21;99;1,84;7...\n",
      "4  91;8,5;4,61;-4,17;-5,39;1,36;1,6;7,04;4,61;-0,...\n"
     ]
    }
   ],
   "source": [
    "import pandas as pd\n",
    "\n",
    "\n",
    "file_path = \"jester-data-1.csv\"\n",
    "\n",
    "df_tab = pd.read_csv(file_path, delimiter='\\t', header=None, on_bad_lines='skip')\n",
    "\n",
    "\n",
    "print(df_tab.shape)\n",
    "print(df_tab.head())"
   ]
  },
  {
   "cell_type": "code",
   "execution_count": null,
   "id": "4808d63c",
   "metadata": {},
   "outputs": [
    {
     "name": "stderr",
     "output_type": "stream",
     "text": [
      "/var/folders/s8/mfl3ssh12jvfdt_brpcmp0fh0000gn/T/ipykernel_34419/541319789.py:7: FutureWarning: DataFrame.applymap has been deprecated. Use DataFrame.map instead.\n",
      "  df_split = df_split.applymap(lambda x: x.replace(',', '.') if isinstance(x, str) else x)\n"
     ]
    },
    {
     "data": {
      "text/plain": [
       "((24983, 100),\n",
       "     1     2     3     4     5     6     7     8     9     10   ...   91   \\\n",
       " 0 -7.82  8.79 -9.66 -8.16 -7.52 -8.50 -9.85  4.17 -8.98 -4.76  ...  2.82   \n",
       " 1  4.08 -0.29  6.36  4.37 -2.38 -9.66 -0.73 -5.34  8.88  9.22  ...  2.82   \n",
       " 2   NaN   NaN   NaN   NaN  9.03  9.27  9.03  9.27   NaN   NaN  ...   NaN   \n",
       " 3   NaN  8.35   NaN   NaN  1.80  8.16 -2.82  6.21   NaN  1.84  ...   NaN   \n",
       " 4  8.50  4.61 -4.17 -5.39  1.36  1.60  7.04  4.61 -0.44  5.73  ...  5.19   \n",
       " \n",
       "     92    93    94    95    96    97    98    99    100  \n",
       " 0   NaN   NaN   NaN   NaN   NaN -5.63   NaN   NaN   NaN  \n",
       " 1 -4.95 -0.29  7.86 -0.19 -2.14  3.06  0.34 -4.32  1.07  \n",
       " 2   NaN   NaN  9.08   NaN   NaN   NaN   NaN   NaN   NaN  \n",
       " 3   NaN   NaN  0.53   NaN   NaN   NaN   NaN   NaN   NaN  \n",
       " 4  5.58  4.27  5.19  5.73  1.55  3.11  6.55  1.80  1.60  \n",
       " \n",
       " [5 rows x 100 columns],\n",
       " 0     74.0\n",
       " 1    100.0\n",
       " 2     49.0\n",
       " 3     48.0\n",
       " 4     91.0\n",
       " Name: 0, dtype: float64)"
      ]
     },
     "metadata": {},
     "output_type": "display_data"
    }
   ],
   "source": [
    "import numpy as np\n",
    "\n",
    "# Dividimos los datos por \";\" y expandir a columnas\n",
    "df_split = df_tab[0].str.split(';', expand=True)\n",
    "\n",
    "# Puntos en vez de comas\n",
    "df_split = df_split.applymap(lambda x: x.replace(',', '.') if isinstance(x, str) else x)\n",
    "\n",
    "# Convertir a float\n",
    "df_split = df_split.astype(float)\n",
    "\n",
    "# Reemplazar los valores 99 por NaN (sin rating)\n",
    "df_split.replace(99.0, np.nan, inplace=True)\n",
    "\n",
    "# Separar la columna con el número de ratings (puede ser útil para filtrado)\n",
    "ratings_count = df_split.iloc[:, 0]\n",
    "ratings_data = df_split.iloc[:, 1:]  # Solo las columnas con ratings\n",
    "\n",
    "# Mostrar dimensiones y algunas filas limpias\n",
    "ratings_data.shape, ratings_data.head(), ratings_count.head()\n"
   ]
  },
  {
   "cell_type": "code",
   "execution_count": null,
   "id": "af475ad8",
   "metadata": {},
   "outputs": [
    {
     "data": {
      "text/plain": [
       "((1448364, 3),\n",
       " (362091, 3),\n",
       "          user_id  item_id  rating\n",
       " 1206583    16664       24   -4.85\n",
       " 804465     11153       90    8.98\n",
       " 718749      9941       97    7.82\n",
       " 1728002    23847       99   -6.17\n",
       " 1102038    15260       94   -5.83)"
      ]
     },
     "metadata": {},
     "output_type": "display_data"
    }
   ],
   "source": [
    "from sklearn.model_selection import train_test_split\n",
    "from sklearn.metrics import mean_absolute_error, mean_squared_error\n",
    "import matplotlib.pyplot as plt\n",
    "\n",
    "# Usar los datos limpios cargados previamente: ratings_data\n",
    "\n",
    "# Para simplificar y reducir tiempo de ejecución, podemos quedarnos con una muestra (opcional)\n",
    "# Aquí no se reduce, pero puedes activar esto si necesitas:\n",
    "# ratings_data = ratings_data.sample(n=5000, random_state=42)\n",
    "\n",
    "# Crear una lista de tripletas (usuario, item, rating)\n",
    "ratings_long = ratings_data.stack().reset_index()\n",
    "ratings_long.columns = ['user_id', 'item_id', 'rating']\n",
    "\n",
    "# Dividir en conjunto de entrenamiento y prueba\n",
    "train_data, test_data = train_test_split(ratings_long, test_size=0.2, random_state=42)\n",
    "\n",
    "# Mostrar tamaños de los conjuntos y una muestra\n",
    "train_data.shape, test_data.shape, train_data.head()\n"
   ]
  },
  {
   "cell_type": "markdown",
   "id": "d3bcb4fc",
   "metadata": {},
   "source": [
    "Cargamos los votos de entrenamiento"
   ]
  },
  {
   "cell_type": "code",
   "execution_count": null,
   "id": "873a9946",
   "metadata": {},
   "outputs": [],
   "source": [
    "import numpy as np\n",
    "\n",
    "# Asumimos que train_data ya existe y tiene las columnas: 'user_id', 'item_id', 'rating'\n",
    "\n",
    "# Reasignamos IDs si no empiezan desde 0 o no son consecutivos\n",
    "from sklearn.preprocessing import LabelEncoder\n",
    "\n",
    "user_encoder = LabelEncoder()\n",
    "item_encoder = LabelEncoder()\n",
    "\n",
    "train_data['user_id_enc'] = user_encoder.fit_transform(train_data['user_id'])\n",
    "train_data['item_id_enc'] = item_encoder.fit_transform(train_data['item_id'])\n",
    "\n",
    "# Definir número de usuarios e ítems\n",
    "NUM_USERS = train_data['user_id_enc'].nunique()\n",
    "NUM_ITEMS = train_data['item_id_enc'].nunique()\n",
    "\n",
    "# Crear arrays X_train (usuarios, ítems) e y_train (ratings)\n",
    "X_train = [\n",
    "    train_data['user_id_enc'].values,\n",
    "    train_data['item_id_enc'].values\n",
    "]\n",
    "y_train = train_data['rating'].values\n"
   ]
  },
  {
   "cell_type": "code",
   "execution_count": null,
   "id": "4a1e7de3",
   "metadata": {},
   "outputs": [
    {
     "data": {
      "text/plain": [
       "[array([16664, 11153,  9941, ...,  1866,  9277,  1720]),\n",
       " array([23, 89, 96, ..., 33, 20, 74])]"
      ]
     },
     "metadata": {},
     "output_type": "display_data"
    }
   ],
   "source": [
    "X_train"
   ]
  },
  {
   "cell_type": "code",
   "execution_count": null,
   "id": "550a1016",
   "metadata": {},
   "outputs": [
    {
     "data": {
      "text/plain": [
       "array([-4.85,  8.98,  7.82, ..., -3.93,  4.9 , -8.69])"
      ]
     },
     "metadata": {},
     "output_type": "display_data"
    }
   ],
   "source": [
    "y_train"
   ]
  },
  {
   "cell_type": "markdown",
   "id": "3ce324cf",
   "metadata": {},
   "source": [
    "Ahora cargamos los votos de test"
   ]
  },
  {
   "cell_type": "code",
   "execution_count": null,
   "id": "637cef9b",
   "metadata": {},
   "outputs": [],
   "source": [
    "# Aseguramos que test_data use los mismos codificadores que train_data\n",
    "test_data['user_id_enc'] = user_encoder.transform(test_data['user_id'])\n",
    "test_data['item_id_enc'] = item_encoder.transform(test_data['item_id'])\n",
    "\n",
    "# Crear arrays X_test (usuarios, ítems) e y_test (ratings)\n",
    "X_test = [\n",
    "    test_data['user_id_enc'].values,\n",
    "    test_data['item_id_enc'].values\n",
    "]\n",
    "y_test = test_data['rating'].values\n"
   ]
  },
  {
   "cell_type": "code",
   "execution_count": null,
   "id": "04f6d234",
   "metadata": {},
   "outputs": [
    {
     "data": {
      "text/plain": [
       "[array([  323,  1346, 19754, ..., 15821, 17910, 21255]),\n",
       " array([50, 68, 98, ..., 20, 51, 11])]"
      ]
     },
     "metadata": {},
     "output_type": "display_data"
    }
   ],
   "source": [
    "X_test"
   ]
  },
  {
   "cell_type": "code",
   "execution_count": null,
   "id": "53c9af91",
   "metadata": {},
   "outputs": [
    {
     "data": {
      "text/plain": [
       "array([-6.55,  2.04,  0.92, ...,  4.42,  1.75,  9.03])"
      ]
     },
     "metadata": {},
     "output_type": "display_data"
    }
   ],
   "source": [
    "y_test"
   ]
  },
  {
   "cell_type": "markdown",
   "id": "6014f4eb",
   "metadata": {},
   "source": [
    "### Primero mediante GMF (Generalized Matrix Factorization)"
   ]
  },
  {
   "cell_type": "markdown",
   "id": "3171615f",
   "metadata": {},
   "source": [
    "Definimos los hiperparámetros y la arquitectura para GMF (Generalized Matrix Factorization)"
   ]
  },
  {
   "cell_type": "code",
   "execution_count": null,
   "id": "01f8e46f",
   "metadata": {},
   "outputs": [],
   "source": [
    "from keras.models import Model\n",
    "from keras.layers import Embedding, Flatten, Input, Dot\n",
    "\n",
    "# Hiperparámetros\n",
    "latent_dim = 5\n",
    "epochs = 10\n",
    "\n",
    "# Capas de entrada\n",
    "user_input = Input(shape=[1], name=\"user_input\")\n",
    "item_input = Input(shape=[1], name=\"item_input\")\n",
    "\n",
    "# Embeddings\n",
    "user_embedding = Embedding(input_dim=NUM_USERS, output_dim=latent_dim, name=\"user_embedding\")(user_input)\n",
    "item_embedding = Embedding(input_dim=NUM_ITEMS, output_dim=latent_dim, name=\"item_embedding\")(item_input)\n",
    "\n",
    "# Aplanar vectores de embedding\n",
    "user_vec = Flatten(name=\"user_flatten\")(user_embedding)\n",
    "item_vec = Flatten(name=\"item_flatten\")(item_embedding)\n",
    "\n",
    "# Producto punto entre vectores de usuario y de ítem\n",
    "output = Dot(axes=1, name=\"dot_product\")([user_vec, item_vec])\n",
    "\n",
    "# Modelo Generalized Matrix Factorization (GMF)\n",
    "GMF = Model(inputs=[user_input, item_input], outputs=output)\n"
   ]
  },
  {
   "cell_type": "markdown",
   "id": "f1b08521",
   "metadata": {},
   "source": [
    "Compilamos y entrenamos el modelo:"
   ]
  },
  {
   "cell_type": "code",
   "execution_count": null,
   "id": "817898df",
   "metadata": {},
   "outputs": [
    {
     "data": {
      "text/html": [
       "<pre style=\"white-space:pre;overflow-x:auto;line-height:normal;font-family:Menlo,'DejaVu Sans Mono',consolas,'Courier New',monospace\"><span style=\"font-weight: bold\">Model: \"functional\"</span>\n",
       "</pre>\n"
      ],
      "text/plain": [
       "\u001b[1mModel: \"functional\"\u001b[0m\n"
      ]
     },
     "metadata": {},
     "output_type": "display_data"
    },
    {
     "data": {
      "text/html": [
       "<pre style=\"white-space:pre;overflow-x:auto;line-height:normal;font-family:Menlo,'DejaVu Sans Mono',consolas,'Courier New',monospace\">┏━━━━━━━━━━━━━━━━━━━━━┳━━━━━━━━━━━━━━━━━━━┳━━━━━━━━━━━━┳━━━━━━━━━━━━━━━━━━━┓\n",
       "┃<span style=\"font-weight: bold\"> Layer (type)        </span>┃<span style=\"font-weight: bold\"> Output Shape      </span>┃<span style=\"font-weight: bold\">    Param # </span>┃<span style=\"font-weight: bold\"> Connected to      </span>┃\n",
       "┡━━━━━━━━━━━━━━━━━━━━━╇━━━━━━━━━━━━━━━━━━━╇━━━━━━━━━━━━╇━━━━━━━━━━━━━━━━━━━┩\n",
       "│ user_input          │ (<span style=\"color: #00d7ff; text-decoration-color: #00d7ff\">None</span>, <span style=\"color: #00af00; text-decoration-color: #00af00\">1</span>)         │          <span style=\"color: #00af00; text-decoration-color: #00af00\">0</span> │ -                 │\n",
       "│ (<span style=\"color: #0087ff; text-decoration-color: #0087ff\">InputLayer</span>)        │                   │            │                   │\n",
       "├─────────────────────┼───────────────────┼────────────┼───────────────────┤\n",
       "│ item_input          │ (<span style=\"color: #00d7ff; text-decoration-color: #00d7ff\">None</span>, <span style=\"color: #00af00; text-decoration-color: #00af00\">1</span>)         │          <span style=\"color: #00af00; text-decoration-color: #00af00\">0</span> │ -                 │\n",
       "│ (<span style=\"color: #0087ff; text-decoration-color: #0087ff\">InputLayer</span>)        │                   │            │                   │\n",
       "├─────────────────────┼───────────────────┼────────────┼───────────────────┤\n",
       "│ user_embedding      │ (<span style=\"color: #00d7ff; text-decoration-color: #00d7ff\">None</span>, <span style=\"color: #00af00; text-decoration-color: #00af00\">1</span>, <span style=\"color: #00af00; text-decoration-color: #00af00\">5</span>)      │    <span style=\"color: #00af00; text-decoration-color: #00af00\">124,915</span> │ user_input[<span style=\"color: #00af00; text-decoration-color: #00af00\">0</span>][<span style=\"color: #00af00; text-decoration-color: #00af00\">0</span>]  │\n",
       "│ (<span style=\"color: #0087ff; text-decoration-color: #0087ff\">Embedding</span>)         │                   │            │                   │\n",
       "├─────────────────────┼───────────────────┼────────────┼───────────────────┤\n",
       "│ item_embedding      │ (<span style=\"color: #00d7ff; text-decoration-color: #00d7ff\">None</span>, <span style=\"color: #00af00; text-decoration-color: #00af00\">1</span>, <span style=\"color: #00af00; text-decoration-color: #00af00\">5</span>)      │        <span style=\"color: #00af00; text-decoration-color: #00af00\">500</span> │ item_input[<span style=\"color: #00af00; text-decoration-color: #00af00\">0</span>][<span style=\"color: #00af00; text-decoration-color: #00af00\">0</span>]  │\n",
       "│ (<span style=\"color: #0087ff; text-decoration-color: #0087ff\">Embedding</span>)         │                   │            │                   │\n",
       "├─────────────────────┼───────────────────┼────────────┼───────────────────┤\n",
       "│ user_flatten        │ (<span style=\"color: #00d7ff; text-decoration-color: #00d7ff\">None</span>, <span style=\"color: #00af00; text-decoration-color: #00af00\">5</span>)         │          <span style=\"color: #00af00; text-decoration-color: #00af00\">0</span> │ user_embedding[<span style=\"color: #00af00; text-decoration-color: #00af00\">0</span>… │\n",
       "│ (<span style=\"color: #0087ff; text-decoration-color: #0087ff\">Flatten</span>)           │                   │            │                   │\n",
       "├─────────────────────┼───────────────────┼────────────┼───────────────────┤\n",
       "│ item_flatten        │ (<span style=\"color: #00d7ff; text-decoration-color: #00d7ff\">None</span>, <span style=\"color: #00af00; text-decoration-color: #00af00\">5</span>)         │          <span style=\"color: #00af00; text-decoration-color: #00af00\">0</span> │ item_embedding[<span style=\"color: #00af00; text-decoration-color: #00af00\">0</span>… │\n",
       "│ (<span style=\"color: #0087ff; text-decoration-color: #0087ff\">Flatten</span>)           │                   │            │                   │\n",
       "├─────────────────────┼───────────────────┼────────────┼───────────────────┤\n",
       "│ dot_product (<span style=\"color: #0087ff; text-decoration-color: #0087ff\">Dot</span>)   │ (<span style=\"color: #00d7ff; text-decoration-color: #00d7ff\">None</span>, <span style=\"color: #00af00; text-decoration-color: #00af00\">1</span>)         │          <span style=\"color: #00af00; text-decoration-color: #00af00\">0</span> │ user_flatten[<span style=\"color: #00af00; text-decoration-color: #00af00\">0</span>][<span style=\"color: #00af00; text-decoration-color: #00af00\">…</span> │\n",
       "│                     │                   │            │ item_flatten[<span style=\"color: #00af00; text-decoration-color: #00af00\">0</span>][<span style=\"color: #00af00; text-decoration-color: #00af00\">…</span> │\n",
       "└─────────────────────┴───────────────────┴────────────┴───────────────────┘\n",
       "</pre>\n"
      ],
      "text/plain": [
       "┏━━━━━━━━━━━━━━━━━━━━━┳━━━━━━━━━━━━━━━━━━━┳━━━━━━━━━━━━┳━━━━━━━━━━━━━━━━━━━┓\n",
       "┃\u001b[1m \u001b[0m\u001b[1mLayer (type)       \u001b[0m\u001b[1m \u001b[0m┃\u001b[1m \u001b[0m\u001b[1mOutput Shape     \u001b[0m\u001b[1m \u001b[0m┃\u001b[1m \u001b[0m\u001b[1m   Param #\u001b[0m\u001b[1m \u001b[0m┃\u001b[1m \u001b[0m\u001b[1mConnected to     \u001b[0m\u001b[1m \u001b[0m┃\n",
       "┡━━━━━━━━━━━━━━━━━━━━━╇━━━━━━━━━━━━━━━━━━━╇━━━━━━━━━━━━╇━━━━━━━━━━━━━━━━━━━┩\n",
       "│ user_input          │ (\u001b[38;5;45mNone\u001b[0m, \u001b[38;5;34m1\u001b[0m)         │          \u001b[38;5;34m0\u001b[0m │ -                 │\n",
       "│ (\u001b[38;5;33mInputLayer\u001b[0m)        │                   │            │                   │\n",
       "├─────────────────────┼───────────────────┼────────────┼───────────────────┤\n",
       "│ item_input          │ (\u001b[38;5;45mNone\u001b[0m, \u001b[38;5;34m1\u001b[0m)         │          \u001b[38;5;34m0\u001b[0m │ -                 │\n",
       "│ (\u001b[38;5;33mInputLayer\u001b[0m)        │                   │            │                   │\n",
       "├─────────────────────┼───────────────────┼────────────┼───────────────────┤\n",
       "│ user_embedding      │ (\u001b[38;5;45mNone\u001b[0m, \u001b[38;5;34m1\u001b[0m, \u001b[38;5;34m5\u001b[0m)      │    \u001b[38;5;34m124,915\u001b[0m │ user_input[\u001b[38;5;34m0\u001b[0m][\u001b[38;5;34m0\u001b[0m]  │\n",
       "│ (\u001b[38;5;33mEmbedding\u001b[0m)         │                   │            │                   │\n",
       "├─────────────────────┼───────────────────┼────────────┼───────────────────┤\n",
       "│ item_embedding      │ (\u001b[38;5;45mNone\u001b[0m, \u001b[38;5;34m1\u001b[0m, \u001b[38;5;34m5\u001b[0m)      │        \u001b[38;5;34m500\u001b[0m │ item_input[\u001b[38;5;34m0\u001b[0m][\u001b[38;5;34m0\u001b[0m]  │\n",
       "│ (\u001b[38;5;33mEmbedding\u001b[0m)         │                   │            │                   │\n",
       "├─────────────────────┼───────────────────┼────────────┼───────────────────┤\n",
       "│ user_flatten        │ (\u001b[38;5;45mNone\u001b[0m, \u001b[38;5;34m5\u001b[0m)         │          \u001b[38;5;34m0\u001b[0m │ user_embedding[\u001b[38;5;34m0\u001b[0m… │\n",
       "│ (\u001b[38;5;33mFlatten\u001b[0m)           │                   │            │                   │\n",
       "├─────────────────────┼───────────────────┼────────────┼───────────────────┤\n",
       "│ item_flatten        │ (\u001b[38;5;45mNone\u001b[0m, \u001b[38;5;34m5\u001b[0m)         │          \u001b[38;5;34m0\u001b[0m │ item_embedding[\u001b[38;5;34m0\u001b[0m… │\n",
       "│ (\u001b[38;5;33mFlatten\u001b[0m)           │                   │            │                   │\n",
       "├─────────────────────┼───────────────────┼────────────┼───────────────────┤\n",
       "│ dot_product (\u001b[38;5;33mDot\u001b[0m)   │ (\u001b[38;5;45mNone\u001b[0m, \u001b[38;5;34m1\u001b[0m)         │          \u001b[38;5;34m0\u001b[0m │ user_flatten[\u001b[38;5;34m0\u001b[0m][\u001b[38;5;34m…\u001b[0m │\n",
       "│                     │                   │            │ item_flatten[\u001b[38;5;34m0\u001b[0m][\u001b[38;5;34m…\u001b[0m │\n",
       "└─────────────────────┴───────────────────┴────────────┴───────────────────┘\n"
      ]
     },
     "metadata": {},
     "output_type": "display_data"
    },
    {
     "data": {
      "text/html": [
       "<pre style=\"white-space:pre;overflow-x:auto;line-height:normal;font-family:Menlo,'DejaVu Sans Mono',consolas,'Courier New',monospace\"><span style=\"font-weight: bold\"> Total params: </span><span style=\"color: #00af00; text-decoration-color: #00af00\">125,415</span> (489.90 KB)\n",
       "</pre>\n"
      ],
      "text/plain": [
       "\u001b[1m Total params: \u001b[0m\u001b[38;5;34m125,415\u001b[0m (489.90 KB)\n"
      ]
     },
     "metadata": {},
     "output_type": "display_data"
    },
    {
     "data": {
      "text/html": [
       "<pre style=\"white-space:pre;overflow-x:auto;line-height:normal;font-family:Menlo,'DejaVu Sans Mono',consolas,'Courier New',monospace\"><span style=\"font-weight: bold\"> Trainable params: </span><span style=\"color: #00af00; text-decoration-color: #00af00\">125,415</span> (489.90 KB)\n",
       "</pre>\n"
      ],
      "text/plain": [
       "\u001b[1m Trainable params: \u001b[0m\u001b[38;5;34m125,415\u001b[0m (489.90 KB)\n"
      ]
     },
     "metadata": {},
     "output_type": "display_data"
    },
    {
     "data": {
      "text/html": [
       "<pre style=\"white-space:pre;overflow-x:auto;line-height:normal;font-family:Menlo,'DejaVu Sans Mono',consolas,'Courier New',monospace\"><span style=\"font-weight: bold\"> Non-trainable params: </span><span style=\"color: #00af00; text-decoration-color: #00af00\">0</span> (0.00 B)\n",
       "</pre>\n"
      ],
      "text/plain": [
       "\u001b[1m Non-trainable params: \u001b[0m\u001b[38;5;34m0\u001b[0m (0.00 B)\n"
      ]
     },
     "metadata": {},
     "output_type": "display_data"
    },
    {
     "name": "stdout",
     "output_type": "stream",
     "text": [
      "Epoch 1/10\n",
      "\u001b[1m45262/45262\u001b[0m \u001b[32m━━━━━━━━━━━━━━━━━━━━\u001b[0m\u001b[37m\u001b[0m \u001b[1m29s\u001b[0m 625us/step - loss: 25.2188 - mae: 4.1763\n",
      "Epoch 2/10\n",
      "\u001b[1m45262/45262\u001b[0m \u001b[32m━━━━━━━━━━━━━━━━━━━━\u001b[0m\u001b[37m\u001b[0m \u001b[1m27s\u001b[0m 598us/step - loss: 18.5642 - mae: 3.3896\n",
      "Epoch 3/10\n",
      "\u001b[1m45262/45262\u001b[0m \u001b[32m━━━━━━━━━━━━━━━━━━━━\u001b[0m\u001b[37m\u001b[0m \u001b[1m26s\u001b[0m 572us/step - loss: 17.6198 - mae: 3.2627\n",
      "Epoch 4/10\n",
      "\u001b[1m45262/45262\u001b[0m \u001b[32m━━━━━━━━━━━━━━━━━━━━\u001b[0m\u001b[37m\u001b[0m \u001b[1m27s\u001b[0m 591us/step - loss: 17.0226 - mae: 3.1903\n",
      "Epoch 5/10\n",
      "\u001b[1m45262/45262\u001b[0m \u001b[32m━━━━━━━━━━━━━━━━━━━━\u001b[0m\u001b[37m\u001b[0m \u001b[1m28s\u001b[0m 617us/step - loss: 16.3885 - mae: 3.1112\n",
      "Epoch 6/10\n",
      "\u001b[1m45262/45262\u001b[0m \u001b[32m━━━━━━━━━━━━━━━━━━━━\u001b[0m\u001b[37m\u001b[0m \u001b[1m28s\u001b[0m 610us/step - loss: 15.7995 - mae: 3.0349\n",
      "Epoch 7/10\n",
      "\u001b[1m45262/45262\u001b[0m \u001b[32m━━━━━━━━━━━━━━━━━━━━\u001b[0m\u001b[37m\u001b[0m \u001b[1m26s\u001b[0m 579us/step - loss: 15.4355 - mae: 2.9878\n",
      "Epoch 8/10\n",
      "\u001b[1m45262/45262\u001b[0m \u001b[32m━━━━━━━━━━━━━━━━━━━━\u001b[0m\u001b[37m\u001b[0m \u001b[1m27s\u001b[0m 588us/step - loss: 15.2729 - mae: 2.9631\n",
      "Epoch 9/10\n",
      "\u001b[1m45262/45262\u001b[0m \u001b[32m━━━━━━━━━━━━━━━━━━━━\u001b[0m\u001b[37m\u001b[0m \u001b[1m27s\u001b[0m 599us/step - loss: 15.1328 - mae: 2.9445\n",
      "Epoch 10/10\n",
      "\u001b[1m45262/45262\u001b[0m \u001b[32m━━━━━━━━━━━━━━━━━━━━\u001b[0m\u001b[37m\u001b[0m \u001b[1m26s\u001b[0m 585us/step - loss: 15.1353 - mae: 2.9433\n"
     ]
    },
    {
     "data": {
      "text/plain": [
       "<keras.src.callbacks.history.History at 0x318db8380>"
      ]
     },
     "metadata": {},
     "output_type": "display_data"
    }
   ],
   "source": [
    "# Compilar y entrenar el modelo\n",
    "GMF.compile(\n",
    "    optimizer='adam',\n",
    "    loss='mean_squared_error',  # MSE como función de pérdida\n",
    "    metrics=['mae']             # MAE como métrica adicional\n",
    ")\n",
    "\n",
    "# Mostrar resumen del modelo\n",
    "GMF.summary()\n",
    "\n",
    "# Entrenamiento\n",
    "GMF.fit(\n",
    "    x=X_train,\n",
    "    y=y_train,\n",
    "    epochs=epochs,\n",
    "    verbose=1\n",
    ")\n"
   ]
  },
  {
   "cell_type": "markdown",
   "id": "15938cc0",
   "metadata": {},
   "source": [
    "Estimamos las predicciones del test"
   ]
  },
  {
   "cell_type": "code",
   "execution_count": null,
   "id": "82194fa5",
   "metadata": {},
   "outputs": [
    {
     "name": "stdout",
     "output_type": "stream",
     "text": [
      "\u001b[1m11316/11316\u001b[0m \u001b[32m━━━━━━━━━━━━━━━━━━━━\u001b[0m\u001b[37m\u001b[0m \u001b[1m3s\u001b[0m 260us/step\n"
     ]
    },
    {
     "data": {
      "text/plain": [
       "(array([[-2.432694 ],\n",
       "        [ 1.8538098],\n",
       "        [ 0.942538 ],\n",
       "        [ 2.4869208],\n",
       "        [-2.050215 ],\n",
       "        [-2.348381 ],\n",
       "        [ 1.0911618],\n",
       "        [-3.149315 ],\n",
       "        [ 2.8631284],\n",
       "        [ 2.9106283]], dtype=float32),\n",
       " array([-6.55,  2.04,  0.92,  6.6 , -8.06,  4.95, -2.38,  3.4 , -0.29,\n",
       "         4.9 ]))"
      ]
     },
     "metadata": {},
     "output_type": "display_data"
    }
   ],
   "source": [
    "# Estimar predicciones sobre el conjunto de test\n",
    "y_pred = GMF.predict(X_test, verbose=1)\n",
    "\n",
    "y_pred[:10], y_test[:10]\n"
   ]
  },
  {
   "cell_type": "markdown",
   "id": "bd7d1608",
   "metadata": {},
   "source": [
    "Medimos el error"
   ]
  },
  {
   "cell_type": "code",
   "execution_count": null,
   "id": "46757628",
   "metadata": {},
   "outputs": [
    {
     "name": "stdout",
     "output_type": "stream",
     "text": [
      "MAE en test: 3.1938\n"
     ]
    }
   ],
   "source": [
    "from sklearn.metrics import mean_absolute_error\n",
    "\n",
    "# Aplanar y_pred por si tiene forma (n,1)\n",
    "mae = mean_absolute_error(y_test, y_pred.ravel())\n",
    "print(f\"MAE en test: {mae:.4f}\")\n"
   ]
  },
  {
   "cell_type": "markdown",
   "id": "97fece3c",
   "metadata": {},
   "source": [
    "### Ahora mediante Multi Layer Perceptron (MLP)"
   ]
  },
  {
   "cell_type": "markdown",
   "id": "abb5855c",
   "metadata": {},
   "source": [
    "Definimos los hiperparametros y la arquitectura"
   ]
  },
  {
   "cell_type": "markdown",
   "id": "b0bc93a5",
   "metadata": {},
   "source": [
    "Usamos linear, ya que ReLu no puede proporcionar valores negativos, por lo cual el MAE se vería sesgado."
   ]
  },
  {
   "cell_type": "code",
   "execution_count": null,
   "id": "396292c9",
   "metadata": {},
   "outputs": [],
   "source": [
    "from keras.models import Model\n",
    "from keras.layers import Embedding, Flatten, Input, Dense, Concatenate\n",
    "\n",
    "# Hiperparámetros\n",
    "latent_dim = 5\n",
    "epochs = 10\n",
    "\n",
    "# Entradas\n",
    "user_input = Input(shape=[1], name=\"user_input\")\n",
    "item_input = Input(shape=[1], name=\"item_input\")\n",
    "\n",
    "# Embeddings\n",
    "user_embedding = Embedding(input_dim=NUM_USERS, output_dim=latent_dim, name=\"user_embedding\")(user_input)\n",
    "item_embedding = Embedding(input_dim=NUM_ITEMS, output_dim=latent_dim, name=\"item_embedding\")(item_input)\n",
    "\n",
    "# Flatten\n",
    "user_vec = Flatten(name=\"user_flatten\")(user_embedding)\n",
    "item_vec = Flatten(name=\"item_flatten\")(item_embedding)\n",
    "\n",
    "# Concatenación\n",
    "concat = Concatenate(name=\"concatenated_features\")([user_vec, item_vec])\n",
    "\n",
    "# Capas densas del MLP (para 10 y 20 neuronas)\n",
    "dense1 = Dense(20, activation='relu', name=\"dense_1\")(concat)\n",
    "dense2 = Dense(10, activation='relu', name=\"dense_2\")(dense1)\n",
    "output = Dense(1, activation='linear', name=\"prediction\")(dense2)\n",
    "\n",
    "# Modelo MLP\n",
    "MLP = Model(inputs=[user_input, item_input], outputs=output)\n"
   ]
  },
  {
   "cell_type": "markdown",
   "id": "d9f87a0a",
   "metadata": {},
   "source": [
    "Compilamos y entrenamos el modelo"
   ]
  },
  {
   "cell_type": "code",
   "execution_count": null,
   "id": "cae12681",
   "metadata": {},
   "outputs": [
    {
     "data": {
      "text/html": [
       "<pre style=\"white-space:pre;overflow-x:auto;line-height:normal;font-family:Menlo,'DejaVu Sans Mono',consolas,'Courier New',monospace\"><span style=\"font-weight: bold\">Model: \"functional_4\"</span>\n",
       "</pre>\n"
      ],
      "text/plain": [
       "\u001b[1mModel: \"functional_4\"\u001b[0m\n"
      ]
     },
     "metadata": {},
     "output_type": "display_data"
    },
    {
     "data": {
      "text/html": [
       "<pre style=\"white-space:pre;overflow-x:auto;line-height:normal;font-family:Menlo,'DejaVu Sans Mono',consolas,'Courier New',monospace\">┏━━━━━━━━━━━━━━━━━━━━━┳━━━━━━━━━━━━━━━━━━━┳━━━━━━━━━━━━┳━━━━━━━━━━━━━━━━━━━┓\n",
       "┃<span style=\"font-weight: bold\"> Layer (type)        </span>┃<span style=\"font-weight: bold\"> Output Shape      </span>┃<span style=\"font-weight: bold\">    Param # </span>┃<span style=\"font-weight: bold\"> Connected to      </span>┃\n",
       "┡━━━━━━━━━━━━━━━━━━━━━╇━━━━━━━━━━━━━━━━━━━╇━━━━━━━━━━━━╇━━━━━━━━━━━━━━━━━━━┩\n",
       "│ user_input          │ (<span style=\"color: #00d7ff; text-decoration-color: #00d7ff\">None</span>, <span style=\"color: #00af00; text-decoration-color: #00af00\">1</span>)         │          <span style=\"color: #00af00; text-decoration-color: #00af00\">0</span> │ -                 │\n",
       "│ (<span style=\"color: #0087ff; text-decoration-color: #0087ff\">InputLayer</span>)        │                   │            │                   │\n",
       "├─────────────────────┼───────────────────┼────────────┼───────────────────┤\n",
       "│ item_input          │ (<span style=\"color: #00d7ff; text-decoration-color: #00d7ff\">None</span>, <span style=\"color: #00af00; text-decoration-color: #00af00\">1</span>)         │          <span style=\"color: #00af00; text-decoration-color: #00af00\">0</span> │ -                 │\n",
       "│ (<span style=\"color: #0087ff; text-decoration-color: #0087ff\">InputLayer</span>)        │                   │            │                   │\n",
       "├─────────────────────┼───────────────────┼────────────┼───────────────────┤\n",
       "│ user_embedding      │ (<span style=\"color: #00d7ff; text-decoration-color: #00d7ff\">None</span>, <span style=\"color: #00af00; text-decoration-color: #00af00\">1</span>, <span style=\"color: #00af00; text-decoration-color: #00af00\">5</span>)      │    <span style=\"color: #00af00; text-decoration-color: #00af00\">124,915</span> │ user_input[<span style=\"color: #00af00; text-decoration-color: #00af00\">0</span>][<span style=\"color: #00af00; text-decoration-color: #00af00\">0</span>]  │\n",
       "│ (<span style=\"color: #0087ff; text-decoration-color: #0087ff\">Embedding</span>)         │                   │            │                   │\n",
       "├─────────────────────┼───────────────────┼────────────┼───────────────────┤\n",
       "│ item_embedding      │ (<span style=\"color: #00d7ff; text-decoration-color: #00d7ff\">None</span>, <span style=\"color: #00af00; text-decoration-color: #00af00\">1</span>, <span style=\"color: #00af00; text-decoration-color: #00af00\">5</span>)      │        <span style=\"color: #00af00; text-decoration-color: #00af00\">500</span> │ item_input[<span style=\"color: #00af00; text-decoration-color: #00af00\">0</span>][<span style=\"color: #00af00; text-decoration-color: #00af00\">0</span>]  │\n",
       "│ (<span style=\"color: #0087ff; text-decoration-color: #0087ff\">Embedding</span>)         │                   │            │                   │\n",
       "├─────────────────────┼───────────────────┼────────────┼───────────────────┤\n",
       "│ user_flatten        │ (<span style=\"color: #00d7ff; text-decoration-color: #00d7ff\">None</span>, <span style=\"color: #00af00; text-decoration-color: #00af00\">5</span>)         │          <span style=\"color: #00af00; text-decoration-color: #00af00\">0</span> │ user_embedding[<span style=\"color: #00af00; text-decoration-color: #00af00\">0</span>… │\n",
       "│ (<span style=\"color: #0087ff; text-decoration-color: #0087ff\">Flatten</span>)           │                   │            │                   │\n",
       "├─────────────────────┼───────────────────┼────────────┼───────────────────┤\n",
       "│ item_flatten        │ (<span style=\"color: #00d7ff; text-decoration-color: #00d7ff\">None</span>, <span style=\"color: #00af00; text-decoration-color: #00af00\">5</span>)         │          <span style=\"color: #00af00; text-decoration-color: #00af00\">0</span> │ item_embedding[<span style=\"color: #00af00; text-decoration-color: #00af00\">0</span>… │\n",
       "│ (<span style=\"color: #0087ff; text-decoration-color: #0087ff\">Flatten</span>)           │                   │            │                   │\n",
       "├─────────────────────┼───────────────────┼────────────┼───────────────────┤\n",
       "│ concatenated_featu… │ (<span style=\"color: #00d7ff; text-decoration-color: #00d7ff\">None</span>, <span style=\"color: #00af00; text-decoration-color: #00af00\">10</span>)        │          <span style=\"color: #00af00; text-decoration-color: #00af00\">0</span> │ user_flatten[<span style=\"color: #00af00; text-decoration-color: #00af00\">0</span>][<span style=\"color: #00af00; text-decoration-color: #00af00\">…</span> │\n",
       "│ (<span style=\"color: #0087ff; text-decoration-color: #0087ff\">Concatenate</span>)       │                   │            │ item_flatten[<span style=\"color: #00af00; text-decoration-color: #00af00\">0</span>][<span style=\"color: #00af00; text-decoration-color: #00af00\">…</span> │\n",
       "├─────────────────────┼───────────────────┼────────────┼───────────────────┤\n",
       "│ dense_1 (<span style=\"color: #0087ff; text-decoration-color: #0087ff\">Dense</span>)     │ (<span style=\"color: #00d7ff; text-decoration-color: #00d7ff\">None</span>, <span style=\"color: #00af00; text-decoration-color: #00af00\">20</span>)        │        <span style=\"color: #00af00; text-decoration-color: #00af00\">220</span> │ concatenated_fea… │\n",
       "├─────────────────────┼───────────────────┼────────────┼───────────────────┤\n",
       "│ dense_2 (<span style=\"color: #0087ff; text-decoration-color: #0087ff\">Dense</span>)     │ (<span style=\"color: #00d7ff; text-decoration-color: #00d7ff\">None</span>, <span style=\"color: #00af00; text-decoration-color: #00af00\">10</span>)        │        <span style=\"color: #00af00; text-decoration-color: #00af00\">210</span> │ dense_1[<span style=\"color: #00af00; text-decoration-color: #00af00\">0</span>][<span style=\"color: #00af00; text-decoration-color: #00af00\">0</span>]     │\n",
       "├─────────────────────┼───────────────────┼────────────┼───────────────────┤\n",
       "│ prediction (<span style=\"color: #0087ff; text-decoration-color: #0087ff\">Dense</span>)  │ (<span style=\"color: #00d7ff; text-decoration-color: #00d7ff\">None</span>, <span style=\"color: #00af00; text-decoration-color: #00af00\">1</span>)         │         <span style=\"color: #00af00; text-decoration-color: #00af00\">11</span> │ dense_2[<span style=\"color: #00af00; text-decoration-color: #00af00\">0</span>][<span style=\"color: #00af00; text-decoration-color: #00af00\">0</span>]     │\n",
       "└─────────────────────┴───────────────────┴────────────┴───────────────────┘\n",
       "</pre>\n"
      ],
      "text/plain": [
       "┏━━━━━━━━━━━━━━━━━━━━━┳━━━━━━━━━━━━━━━━━━━┳━━━━━━━━━━━━┳━━━━━━━━━━━━━━━━━━━┓\n",
       "┃\u001b[1m \u001b[0m\u001b[1mLayer (type)       \u001b[0m\u001b[1m \u001b[0m┃\u001b[1m \u001b[0m\u001b[1mOutput Shape     \u001b[0m\u001b[1m \u001b[0m┃\u001b[1m \u001b[0m\u001b[1m   Param #\u001b[0m\u001b[1m \u001b[0m┃\u001b[1m \u001b[0m\u001b[1mConnected to     \u001b[0m\u001b[1m \u001b[0m┃\n",
       "┡━━━━━━━━━━━━━━━━━━━━━╇━━━━━━━━━━━━━━━━━━━╇━━━━━━━━━━━━╇━━━━━━━━━━━━━━━━━━━┩\n",
       "│ user_input          │ (\u001b[38;5;45mNone\u001b[0m, \u001b[38;5;34m1\u001b[0m)         │          \u001b[38;5;34m0\u001b[0m │ -                 │\n",
       "│ (\u001b[38;5;33mInputLayer\u001b[0m)        │                   │            │                   │\n",
       "├─────────────────────┼───────────────────┼────────────┼───────────────────┤\n",
       "│ item_input          │ (\u001b[38;5;45mNone\u001b[0m, \u001b[38;5;34m1\u001b[0m)         │          \u001b[38;5;34m0\u001b[0m │ -                 │\n",
       "│ (\u001b[38;5;33mInputLayer\u001b[0m)        │                   │            │                   │\n",
       "├─────────────────────┼───────────────────┼────────────┼───────────────────┤\n",
       "│ user_embedding      │ (\u001b[38;5;45mNone\u001b[0m, \u001b[38;5;34m1\u001b[0m, \u001b[38;5;34m5\u001b[0m)      │    \u001b[38;5;34m124,915\u001b[0m │ user_input[\u001b[38;5;34m0\u001b[0m][\u001b[38;5;34m0\u001b[0m]  │\n",
       "│ (\u001b[38;5;33mEmbedding\u001b[0m)         │                   │            │                   │\n",
       "├─────────────────────┼───────────────────┼────────────┼───────────────────┤\n",
       "│ item_embedding      │ (\u001b[38;5;45mNone\u001b[0m, \u001b[38;5;34m1\u001b[0m, \u001b[38;5;34m5\u001b[0m)      │        \u001b[38;5;34m500\u001b[0m │ item_input[\u001b[38;5;34m0\u001b[0m][\u001b[38;5;34m0\u001b[0m]  │\n",
       "│ (\u001b[38;5;33mEmbedding\u001b[0m)         │                   │            │                   │\n",
       "├─────────────────────┼───────────────────┼────────────┼───────────────────┤\n",
       "│ user_flatten        │ (\u001b[38;5;45mNone\u001b[0m, \u001b[38;5;34m5\u001b[0m)         │          \u001b[38;5;34m0\u001b[0m │ user_embedding[\u001b[38;5;34m0\u001b[0m… │\n",
       "│ (\u001b[38;5;33mFlatten\u001b[0m)           │                   │            │                   │\n",
       "├─────────────────────┼───────────────────┼────────────┼───────────────────┤\n",
       "│ item_flatten        │ (\u001b[38;5;45mNone\u001b[0m, \u001b[38;5;34m5\u001b[0m)         │          \u001b[38;5;34m0\u001b[0m │ item_embedding[\u001b[38;5;34m0\u001b[0m… │\n",
       "│ (\u001b[38;5;33mFlatten\u001b[0m)           │                   │            │                   │\n",
       "├─────────────────────┼───────────────────┼────────────┼───────────────────┤\n",
       "│ concatenated_featu… │ (\u001b[38;5;45mNone\u001b[0m, \u001b[38;5;34m10\u001b[0m)        │          \u001b[38;5;34m0\u001b[0m │ user_flatten[\u001b[38;5;34m0\u001b[0m][\u001b[38;5;34m…\u001b[0m │\n",
       "│ (\u001b[38;5;33mConcatenate\u001b[0m)       │                   │            │ item_flatten[\u001b[38;5;34m0\u001b[0m][\u001b[38;5;34m…\u001b[0m │\n",
       "├─────────────────────┼───────────────────┼────────────┼───────────────────┤\n",
       "│ dense_1 (\u001b[38;5;33mDense\u001b[0m)     │ (\u001b[38;5;45mNone\u001b[0m, \u001b[38;5;34m20\u001b[0m)        │        \u001b[38;5;34m220\u001b[0m │ concatenated_fea… │\n",
       "├─────────────────────┼───────────────────┼────────────┼───────────────────┤\n",
       "│ dense_2 (\u001b[38;5;33mDense\u001b[0m)     │ (\u001b[38;5;45mNone\u001b[0m, \u001b[38;5;34m10\u001b[0m)        │        \u001b[38;5;34m210\u001b[0m │ dense_1[\u001b[38;5;34m0\u001b[0m][\u001b[38;5;34m0\u001b[0m]     │\n",
       "├─────────────────────┼───────────────────┼────────────┼───────────────────┤\n",
       "│ prediction (\u001b[38;5;33mDense\u001b[0m)  │ (\u001b[38;5;45mNone\u001b[0m, \u001b[38;5;34m1\u001b[0m)         │         \u001b[38;5;34m11\u001b[0m │ dense_2[\u001b[38;5;34m0\u001b[0m][\u001b[38;5;34m0\u001b[0m]     │\n",
       "└─────────────────────┴───────────────────┴────────────┴───────────────────┘\n"
      ]
     },
     "metadata": {},
     "output_type": "display_data"
    },
    {
     "data": {
      "text/html": [
       "<pre style=\"white-space:pre;overflow-x:auto;line-height:normal;font-family:Menlo,'DejaVu Sans Mono',consolas,'Courier New',monospace\"><span style=\"font-weight: bold\"> Total params: </span><span style=\"color: #00af00; text-decoration-color: #00af00\">125,856</span> (491.62 KB)\n",
       "</pre>\n"
      ],
      "text/plain": [
       "\u001b[1m Total params: \u001b[0m\u001b[38;5;34m125,856\u001b[0m (491.62 KB)\n"
      ]
     },
     "metadata": {},
     "output_type": "display_data"
    },
    {
     "data": {
      "text/html": [
       "<pre style=\"white-space:pre;overflow-x:auto;line-height:normal;font-family:Menlo,'DejaVu Sans Mono',consolas,'Courier New',monospace\"><span style=\"font-weight: bold\"> Trainable params: </span><span style=\"color: #00af00; text-decoration-color: #00af00\">125,856</span> (491.62 KB)\n",
       "</pre>\n"
      ],
      "text/plain": [
       "\u001b[1m Trainable params: \u001b[0m\u001b[38;5;34m125,856\u001b[0m (491.62 KB)\n"
      ]
     },
     "metadata": {},
     "output_type": "display_data"
    },
    {
     "data": {
      "text/html": [
       "<pre style=\"white-space:pre;overflow-x:auto;line-height:normal;font-family:Menlo,'DejaVu Sans Mono',consolas,'Courier New',monospace\"><span style=\"font-weight: bold\"> Non-trainable params: </span><span style=\"color: #00af00; text-decoration-color: #00af00\">0</span> (0.00 B)\n",
       "</pre>\n"
      ],
      "text/plain": [
       "\u001b[1m Non-trainable params: \u001b[0m\u001b[38;5;34m0\u001b[0m (0.00 B)\n"
      ]
     },
     "metadata": {},
     "output_type": "display_data"
    },
    {
     "name": "stdout",
     "output_type": "stream",
     "text": [
      "Epoch 1/10\n",
      "\u001b[1m45262/45262\u001b[0m \u001b[32m━━━━━━━━━━━━━━━━━━━━\u001b[0m\u001b[37m\u001b[0m \u001b[1m32s\u001b[0m 702us/step - loss: 21.1038 - mae: 3.7029\n",
      "Epoch 2/10\n",
      "\u001b[1m45262/45262\u001b[0m \u001b[32m━━━━━━━━━━━━━━━━━━━━\u001b[0m\u001b[37m\u001b[0m \u001b[1m30s\u001b[0m 653us/step - loss: 17.7748 - mae: 3.3071\n",
      "Epoch 3/10\n",
      "\u001b[1m45262/45262\u001b[0m \u001b[32m━━━━━━━━━━━━━━━━━━━━\u001b[0m\u001b[37m\u001b[0m \u001b[1m29s\u001b[0m 648us/step - loss: 17.1665 - mae: 3.2243\n",
      "Epoch 4/10\n",
      "\u001b[1m45262/45262\u001b[0m \u001b[32m━━━━━━━━━━━━━━━━━━━━\u001b[0m\u001b[37m\u001b[0m \u001b[1m32s\u001b[0m 700us/step - loss: 16.7636 - mae: 3.1683\n",
      "Epoch 5/10\n",
      "\u001b[1m45262/45262\u001b[0m \u001b[32m━━━━━━━━━━━━━━━━━━━━\u001b[0m\u001b[37m\u001b[0m \u001b[1m30s\u001b[0m 652us/step - loss: 16.4263 - mae: 3.1231\n",
      "Epoch 6/10\n",
      "\u001b[1m45262/45262\u001b[0m \u001b[32m━━━━━━━━━━━━━━━━━━━━\u001b[0m\u001b[37m\u001b[0m \u001b[1m30s\u001b[0m 653us/step - loss: 16.1302 - mae: 3.0852\n",
      "Epoch 7/10\n",
      "\u001b[1m45262/45262\u001b[0m \u001b[32m━━━━━━━━━━━━━━━━━━━━\u001b[0m\u001b[37m\u001b[0m \u001b[1m30s\u001b[0m 664us/step - loss: 15.8867 - mae: 3.0529\n",
      "Epoch 8/10\n",
      "\u001b[1m45262/45262\u001b[0m \u001b[32m━━━━━━━━━━━━━━━━━━━━\u001b[0m\u001b[37m\u001b[0m \u001b[1m30s\u001b[0m 656us/step - loss: 15.7005 - mae: 3.0282\n",
      "Epoch 9/10\n",
      "\u001b[1m45262/45262\u001b[0m \u001b[32m━━━━━━━━━━━━━━━━━━━━\u001b[0m\u001b[37m\u001b[0m \u001b[1m29s\u001b[0m 650us/step - loss: 15.5470 - mae: 3.0096\n",
      "Epoch 10/10\n",
      "\u001b[1m45262/45262\u001b[0m \u001b[32m━━━━━━━━━━━━━━━━━━━━\u001b[0m\u001b[37m\u001b[0m \u001b[1m29s\u001b[0m 649us/step - loss: 15.3821 - mae: 2.9878\n"
     ]
    },
    {
     "data": {
      "text/plain": [
       "<keras.src.callbacks.history.History at 0x318efa960>"
      ]
     },
     "metadata": {},
     "output_type": "display_data"
    }
   ],
   "source": [
    "# Compilar el modelo MLP\n",
    "MLP.compile(\n",
    "    optimizer='adam',\n",
    "    loss='mean_squared_error',\n",
    "    metrics=['mae']\n",
    ")\n",
    "\n",
    "# Mostrar resumen del modelo\n",
    "MLP.summary()\n",
    "\n",
    "# Entrenamiento\n",
    "MLP.fit(\n",
    "    x=X_train,\n",
    "    y=y_train,\n",
    "    epochs=epochs,\n",
    "    verbose=1\n",
    ")\n"
   ]
  },
  {
   "cell_type": "markdown",
   "id": "f588734f",
   "metadata": {},
   "source": [
    "Calculamos las predicciones"
   ]
  },
  {
   "cell_type": "code",
   "execution_count": null,
   "id": "9526cdc6",
   "metadata": {},
   "outputs": [
    {
     "name": "stdout",
     "output_type": "stream",
     "text": [
      "\u001b[1m11316/11316\u001b[0m \u001b[32m━━━━━━━━━━━━━━━━━━━━\u001b[0m\u001b[37m\u001b[0m \u001b[1m3s\u001b[0m 263us/step\n"
     ]
    },
    {
     "data": {
      "text/plain": [
       "array([-1.9501    ,  2.1839194 ,  1.0501406 , ...,  2.442042  ,\n",
       "       -0.02833611,  6.0975237 ], dtype=float32)"
      ]
     },
     "metadata": {},
     "output_type": "display_data"
    }
   ],
   "source": [
    "# Generar predicciones\n",
    "y_pred = MLP.predict(X_test, verbose=1)\n",
    "\n",
    "# Asegurarse de que las dimensiones coinciden\n",
    "y_pred = y_pred.ravel()  # Aplanar para que tenga forma (n,) como y_test\n",
    "\n",
    "y_pred\n"
   ]
  },
  {
   "cell_type": "markdown",
   "id": "89d47ff6",
   "metadata": {},
   "source": [
    "Medimos el error"
   ]
  },
  {
   "cell_type": "code",
   "execution_count": null,
   "id": "2138cde3",
   "metadata": {},
   "outputs": [
    {
     "name": "stdout",
     "output_type": "stream",
     "text": [
      "MAE del modelo MLP: 3.2260\n"
     ]
    }
   ],
   "source": [
    "from sklearn.metrics import mean_absolute_error\n",
    "\n",
    "# Aplanar predicciones en caso de que tengan forma (n, 1)\n",
    "mae = mean_absolute_error(y_test, y_pred.ravel())\n",
    "\n",
    "print(f\"MAE del modelo MLP: {mae:.4f}\")\n"
   ]
  },
  {
   "cell_type": "markdown",
   "id": "fecbeb1e",
   "metadata": {},
   "source": [
    "# RESUMEN DE MEJORES MAEs\n",
    "\n",
    "- Media Global: 4.3701\n",
    "- KNN (Deviation from Mean Predition + JMSD): 3.4513\n",
    "- Matrix Factorization (con bias): 3.46366\n",
    "- Bernoulli: 6.36684\n",
    "- Neural Collaborative Filtering (GMF): 3.1938\n",
    "\n",
    "\n",
    "Siendo la mejor Neural Collaborative Filtering (con GMF) al tener el MAE más pequeño, 3.1938."
   ]
  }
 ],
 "metadata": {
  "kernelspec": {
   "display_name": "Python 3",
   "language": "python",
   "name": "python3"
  },
  "language_info": {
   "codemirror_mode": {
    "name": "ipython",
    "version": 3
   },
   "file_extension": ".py",
   "mimetype": "text/x-python",
   "name": "python",
   "nbconvert_exporter": "python",
   "pygments_lexer": "ipython3",
   "version": "3.12.7"
  }
 },
 "nbformat": 4,
 "nbformat_minor": 5
}
